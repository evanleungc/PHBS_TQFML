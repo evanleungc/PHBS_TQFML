{
 "cells": [
  {
   "cell_type": "markdown",
   "metadata": {},
   "source": [
    "# ML_Homework_2"
   ]
  },
  {
   "cell_type": "markdown",
   "metadata": {},
   "source": [
    "## 1. Data Description"
   ]
  },
  {
   "cell_type": "code",
   "execution_count": 1,
   "metadata": {},
   "outputs": [
    {
     "name": "stderr",
     "output_type": "stream",
     "text": [
      "/Users/apple/anaconda3/lib/python3.6/site-packages/sklearn/cross_validation.py:41: DeprecationWarning: This module was deprecated in version 0.18 in favor of the model_selection module into which all the refactored classes and functions are moved. Also note that the interface of the new CV iterators are different from that of this module. This module will be removed in 0.20.\n",
      "  \"This module will be removed in 0.20.\", DeprecationWarning)\n"
     ]
    }
   ],
   "source": [
    "from sklearn.cross_validation import train_test_split\n",
    "from sklearn.preprocessing import StandardScaler\n",
    "import seaborn as sns\n",
    "import pandas as pd\n",
    "import numpy as np\n",
    "import random\n",
    "import sklearn\n",
    "import os\n",
    "from matplotlib.colors import ListedColormap\n",
    "import matplotlib.pyplot as plt\n",
    "import warnings\n",
    "\n",
    "def versiontuple(v):\n",
    "    return tuple(map(int, (v.split(\".\"))))\n",
    "\n",
    "def plot_decision_regions(X, y, classifier, test_idx=None, resolution=0.02):\n",
    "\n",
    "    # setup marker generator and color map\n",
    "    markers = ('s', 'x', 'o', '^', 'v')\n",
    "    colors = ('red', 'blue', 'lightgreen', 'gray', 'cyan')\n",
    "    cmap = ListedColormap(colors[:len(np.unique(y))])\n",
    "\n",
    "    # plot the decision surface\n",
    "    x1_min, x1_max = X[:, 0].min() - 1, X[:, 0].max() + 1\n",
    "    x2_min, x2_max = X[:, 1].min() - 1, X[:, 1].max() + 1\n",
    "    xx1, xx2 = np.meshgrid(np.arange(x1_min, x1_max, resolution),\n",
    "                           np.arange(x2_min, x2_max, resolution))\n",
    "    Z = classifier.predict(np.array([xx1.ravel(), xx2.ravel()]).T)\n",
    "    Z = Z.reshape(xx1.shape)\n",
    "    plt.contourf(xx1, xx2, Z, alpha=0.4, cmap=cmap)\n",
    "    plt.xlim(xx1.min(), xx1.max())\n",
    "    plt.ylim(xx2.min(), xx2.max())\n",
    "\n",
    "    for idx, cl in enumerate(np.unique(y)):\n",
    "        plt.scatter(x=X[y == cl, 0], \n",
    "                    y=X[y == cl, 1],\n",
    "                    alpha=0.6, \n",
    "                    c=cmap(idx),\n",
    "                    edgecolor='black',\n",
    "                    marker=markers[idx], \n",
    "                    label=cl)\n",
    "\n",
    "    # highlight test samples\n",
    "    if test_idx:\n",
    "        # plot all samples\n",
    "        if not versiontuple(np.__version__) >= versiontuple('1.9.0'):\n",
    "            X_test, y_test = X[list(test_idx), :], y[list(test_idx)]\n",
    "            warnings.warn('Please update to NumPy 1.9.0 or newer')\n",
    "        else:\n",
    "            X_test, y_test = X[test_idx, :], y[test_idx]\n",
    "\n",
    "        plt.scatter(X_test[:, 0],\n",
    "                    X_test[:, 1],\n",
    "                    c='',\n",
    "                    alpha=1.0,\n",
    "                    edgecolor='black',\n",
    "                    linewidths=1,\n",
    "                    marker='o',\n",
    "                    s=55, label='test set')"
   ]
  },
  {
   "cell_type": "code",
   "execution_count": 2,
   "metadata": {
    "collapsed": true
   },
   "outputs": [],
   "source": [
    "os.chdir('/Users/apple/Desktop/ML_HW2')"
   ]
  },
  {
   "cell_type": "code",
   "execution_count": 3,
   "metadata": {
    "collapsed": true
   },
   "outputs": [],
   "source": [
    "df = pd.read_csv('bank.csv', delimiter=';')"
   ]
  },
  {
   "cell_type": "code",
   "execution_count": 4,
   "metadata": {},
   "outputs": [
    {
     "data": {
      "text/plain": [
       "age          False\n",
       "job          False\n",
       "marital      False\n",
       "education    False\n",
       "default      False\n",
       "balance      False\n",
       "housing      False\n",
       "loan         False\n",
       "contact      False\n",
       "day          False\n",
       "month        False\n",
       "duration     False\n",
       "campaign     False\n",
       "pdays        False\n",
       "previous     False\n",
       "poutcome     False\n",
       "y            False\n",
       "dtype: bool"
      ]
     },
     "execution_count": 4,
     "metadata": {},
     "output_type": "execute_result"
    }
   ],
   "source": [
    "df.isnull().any()"
   ]
  },
  {
   "cell_type": "markdown",
   "metadata": {},
   "source": [
    "There is no missing values in the dataset"
   ]
  },
  {
   "cell_type": "markdown",
   "metadata": {},
   "source": [
    "### 1.1 Distinguish strings and numerical variables"
   ]
  },
  {
   "cell_type": "code",
   "execution_count": 5,
   "metadata": {},
   "outputs": [
    {
     "name": "stdout",
     "output_type": "stream",
     "text": [
      "age <class 'numpy.int64'>\n",
      "job <class 'str'>\n",
      "marital <class 'str'>\n",
      "education <class 'str'>\n",
      "default <class 'str'>\n",
      "balance <class 'numpy.int64'>\n",
      "housing <class 'str'>\n",
      "loan <class 'str'>\n",
      "contact <class 'str'>\n",
      "day <class 'numpy.int64'>\n",
      "month <class 'str'>\n",
      "duration <class 'numpy.int64'>\n",
      "campaign <class 'numpy.int64'>\n",
      "pdays <class 'numpy.int64'>\n",
      "previous <class 'numpy.int64'>\n",
      "poutcome <class 'str'>\n",
      "y <class 'str'>\n"
     ]
    }
   ],
   "source": [
    "for i in df:\n",
    "    print ('%s' %i, type(df[i].iloc[0]))"
   ]
  },
  {
   "cell_type": "markdown",
   "metadata": {},
   "source": [
    "* Numerical Varialbes: age, balance, day, duration, campaign, pdays, previous\n",
    "* Strings Variables: job, marital, education, default, housing, contact, month, poutcome, y\n",
    "* Month and day should be concatenate into ordinal sequence. Separating them will incerase the training difficulties\n",
    "\n",
    "We need to transform the categorical variables to numerical expressions"
   ]
  },
  {
   "cell_type": "code",
   "execution_count": 6,
   "metadata": {},
   "outputs": [
    {
     "data": {
      "text/plain": [
       "array(['oct', 'may', 'apr', 'jun', 'feb', 'aug', 'jan', 'jul', 'nov',\n",
       "       'sep', 'mar', 'dec'], dtype=object)"
      ]
     },
     "execution_count": 6,
     "metadata": {},
     "output_type": "execute_result"
    }
   ],
   "source": [
    "pd.unique(df['month'])"
   ]
  },
  {
   "cell_type": "code",
   "execution_count": 7,
   "metadata": {
    "collapsed": true
   },
   "outputs": [],
   "source": [
    "monthdict = {'dec': 12, 'nov': 11,'oct': 10, 'sep': 9,\\\n",
    "             'aug': 8, 'jul': 7, 'jun': 6, 'may': 5,\\\n",
    "             'apr': 4, 'mar': 3, 'feb': 2, 'jan': 1}\n",
    "timeseq = [monthdict[i] * 100 + j for i, j in zip(list(df['month']), list(df['day']))]\n",
    "df['time'] = timeseq\n",
    "df = df.drop(['month', 'day'], axis = 1)"
   ]
  },
  {
   "cell_type": "markdown",
   "metadata": {},
   "source": [
    "### 1.2 Convert categorical variables"
   ]
  },
  {
   "cell_type": "code",
   "execution_count": 8,
   "metadata": {
    "collapsed": true
   },
   "outputs": [],
   "source": [
    "#define a function to convert categorical variables\n",
    "def convert_cat(col):\n",
    "    categories = pd.unique(col)\n",
    "    catcount = len(categories)\n",
    "    dictvalues = list(range(catcount))\n",
    "    catdict = dict(zip(categories, dictvalues))\n",
    "    col = col.map(lambda x : catdict[x])\n",
    "    return col"
   ]
  },
  {
   "cell_type": "code",
   "execution_count": 9,
   "metadata": {
    "collapsed": true
   },
   "outputs": [],
   "source": [
    "cat_features = ['job', 'marital', 'education', 'default', 'loan', 'housing', 'contact', 'poutcome', 'y']"
   ]
  },
  {
   "cell_type": "code",
   "execution_count": 10,
   "metadata": {
    "collapsed": true
   },
   "outputs": [],
   "source": [
    "for i in cat_features:\n",
    "    df[i] = convert_cat(df[i])"
   ]
  },
  {
   "cell_type": "markdown",
   "metadata": {},
   "source": [
    "### 1.3 Check whether the data set is imbalance"
   ]
  },
  {
   "cell_type": "code",
   "execution_count": 11,
   "metadata": {
    "collapsed": true
   },
   "outputs": [],
   "source": [
    "cat = pd.unique(df['y'])"
   ]
  },
  {
   "cell_type": "code",
   "execution_count": 12,
   "metadata": {},
   "outputs": [
    {
     "data": {
      "text/plain": [
       "array([0, 1])"
      ]
     },
     "execution_count": 12,
     "metadata": {},
     "output_type": "execute_result"
    }
   ],
   "source": [
    "cat"
   ]
  },
  {
   "cell_type": "code",
   "execution_count": 13,
   "metadata": {},
   "outputs": [
    {
     "name": "stdout",
     "output_type": "stream",
     "text": [
      "percentage of 1: 11.52%\n",
      "percentage of 0: 88.48%\n"
     ]
    }
   ],
   "source": [
    "print ('percentage of 1: %.2f%%'%(sum(df['y'] == 1) / len(df) * 100))\n",
    "print ('percentage of 0: %.2f%%'%(sum(df['y'] == 0) / len(df) * 100))"
   ]
  },
  {
   "cell_type": "markdown",
   "metadata": {},
   "source": [
    "Apparently, it is quite an imbalance dataset. Therefore, we need to assign larger weight to '1' label when training"
   ]
  },
  {
   "cell_type": "markdown",
   "metadata": {},
   "source": [
    "### 1.4 Data descriptions"
   ]
  },
  {
   "cell_type": "code",
   "execution_count": 14,
   "metadata": {},
   "outputs": [
    {
     "data": {
      "text/html": [
       "<div>\n",
       "<style>\n",
       "    .dataframe thead tr:only-child th {\n",
       "        text-align: right;\n",
       "    }\n",
       "\n",
       "    .dataframe thead th {\n",
       "        text-align: left;\n",
       "    }\n",
       "\n",
       "    .dataframe tbody tr th {\n",
       "        vertical-align: top;\n",
       "    }\n",
       "</style>\n",
       "<table border=\"1\" class=\"dataframe\">\n",
       "  <thead>\n",
       "    <tr style=\"text-align: right;\">\n",
       "      <th></th>\n",
       "      <th>age</th>\n",
       "      <th>job</th>\n",
       "      <th>marital</th>\n",
       "      <th>education</th>\n",
       "      <th>default</th>\n",
       "      <th>balance</th>\n",
       "      <th>housing</th>\n",
       "      <th>loan</th>\n",
       "      <th>contact</th>\n",
       "      <th>duration</th>\n",
       "      <th>campaign</th>\n",
       "      <th>pdays</th>\n",
       "      <th>previous</th>\n",
       "      <th>poutcome</th>\n",
       "      <th>y</th>\n",
       "      <th>time</th>\n",
       "    </tr>\n",
       "  </thead>\n",
       "  <tbody>\n",
       "    <tr>\n",
       "      <th>count</th>\n",
       "      <td>4521.000000</td>\n",
       "      <td>4521.000000</td>\n",
       "      <td>4521.000000</td>\n",
       "      <td>4521.000000</td>\n",
       "      <td>4521.000000</td>\n",
       "      <td>4521.000000</td>\n",
       "      <td>4521.000000</td>\n",
       "      <td>4521.000000</td>\n",
       "      <td>4521.000000</td>\n",
       "      <td>4521.000000</td>\n",
       "      <td>4521.000000</td>\n",
       "      <td>4521.000000</td>\n",
       "      <td>4521.000000</td>\n",
       "      <td>4521.000000</td>\n",
       "      <td>4521.000000</td>\n",
       "      <td>4521.000000</td>\n",
       "    </tr>\n",
       "    <tr>\n",
       "      <th>mean</th>\n",
       "      <td>41.170095</td>\n",
       "      <td>4.095775</td>\n",
       "      <td>0.498120</td>\n",
       "      <td>1.231365</td>\n",
       "      <td>0.016810</td>\n",
       "      <td>1422.657819</td>\n",
       "      <td>0.566025</td>\n",
       "      <td>0.152842</td>\n",
       "      <td>0.426012</td>\n",
       "      <td>263.961292</td>\n",
       "      <td>2.793630</td>\n",
       "      <td>39.766645</td>\n",
       "      <td>0.542579</td>\n",
       "      <td>0.281132</td>\n",
       "      <td>0.115240</td>\n",
       "      <td>632.593010</td>\n",
       "    </tr>\n",
       "    <tr>\n",
       "      <th>std</th>\n",
       "      <td>10.576211</td>\n",
       "      <td>2.602310</td>\n",
       "      <td>0.695471</td>\n",
       "      <td>0.748744</td>\n",
       "      <td>0.128575</td>\n",
       "      <td>3009.638142</td>\n",
       "      <td>0.495676</td>\n",
       "      <td>0.359875</td>\n",
       "      <td>0.614626</td>\n",
       "      <td>259.856633</td>\n",
       "      <td>3.109807</td>\n",
       "      <td>100.121124</td>\n",
       "      <td>1.693562</td>\n",
       "      <td>0.678637</td>\n",
       "      <td>0.319347</td>\n",
       "      <td>238.643077</td>\n",
       "    </tr>\n",
       "    <tr>\n",
       "      <th>min</th>\n",
       "      <td>19.000000</td>\n",
       "      <td>0.000000</td>\n",
       "      <td>0.000000</td>\n",
       "      <td>0.000000</td>\n",
       "      <td>0.000000</td>\n",
       "      <td>-3313.000000</td>\n",
       "      <td>0.000000</td>\n",
       "      <td>0.000000</td>\n",
       "      <td>0.000000</td>\n",
       "      <td>4.000000</td>\n",
       "      <td>1.000000</td>\n",
       "      <td>-1.000000</td>\n",
       "      <td>0.000000</td>\n",
       "      <td>0.000000</td>\n",
       "      <td>0.000000</td>\n",
       "      <td>107.000000</td>\n",
       "    </tr>\n",
       "    <tr>\n",
       "      <th>25%</th>\n",
       "      <td>33.000000</td>\n",
       "      <td>2.000000</td>\n",
       "      <td>0.000000</td>\n",
       "      <td>1.000000</td>\n",
       "      <td>0.000000</td>\n",
       "      <td>69.000000</td>\n",
       "      <td>0.000000</td>\n",
       "      <td>0.000000</td>\n",
       "      <td>0.000000</td>\n",
       "      <td>104.000000</td>\n",
       "      <td>1.000000</td>\n",
       "      <td>-1.000000</td>\n",
       "      <td>0.000000</td>\n",
       "      <td>0.000000</td>\n",
       "      <td>0.000000</td>\n",
       "      <td>511.000000</td>\n",
       "    </tr>\n",
       "    <tr>\n",
       "      <th>50%</th>\n",
       "      <td>39.000000</td>\n",
       "      <td>3.000000</td>\n",
       "      <td>0.000000</td>\n",
       "      <td>1.000000</td>\n",
       "      <td>0.000000</td>\n",
       "      <td>444.000000</td>\n",
       "      <td>1.000000</td>\n",
       "      <td>0.000000</td>\n",
       "      <td>0.000000</td>\n",
       "      <td>185.000000</td>\n",
       "      <td>2.000000</td>\n",
       "      <td>-1.000000</td>\n",
       "      <td>0.000000</td>\n",
       "      <td>0.000000</td>\n",
       "      <td>0.000000</td>\n",
       "      <td>605.000000</td>\n",
       "    </tr>\n",
       "    <tr>\n",
       "      <th>75%</th>\n",
       "      <td>49.000000</td>\n",
       "      <td>5.000000</td>\n",
       "      <td>1.000000</td>\n",
       "      <td>2.000000</td>\n",
       "      <td>0.000000</td>\n",
       "      <td>1480.000000</td>\n",
       "      <td>1.000000</td>\n",
       "      <td>0.000000</td>\n",
       "      <td>1.000000</td>\n",
       "      <td>329.000000</td>\n",
       "      <td>3.000000</td>\n",
       "      <td>-1.000000</td>\n",
       "      <td>0.000000</td>\n",
       "      <td>0.000000</td>\n",
       "      <td>0.000000</td>\n",
       "      <td>805.000000</td>\n",
       "    </tr>\n",
       "    <tr>\n",
       "      <th>max</th>\n",
       "      <td>87.000000</td>\n",
       "      <td>11.000000</td>\n",
       "      <td>2.000000</td>\n",
       "      <td>3.000000</td>\n",
       "      <td>1.000000</td>\n",
       "      <td>71188.000000</td>\n",
       "      <td>1.000000</td>\n",
       "      <td>1.000000</td>\n",
       "      <td>2.000000</td>\n",
       "      <td>3025.000000</td>\n",
       "      <td>50.000000</td>\n",
       "      <td>871.000000</td>\n",
       "      <td>25.000000</td>\n",
       "      <td>3.000000</td>\n",
       "      <td>1.000000</td>\n",
       "      <td>1231.000000</td>\n",
       "    </tr>\n",
       "  </tbody>\n",
       "</table>\n",
       "</div>"
      ],
      "text/plain": [
       "               age          job      marital    education      default  \\\n",
       "count  4521.000000  4521.000000  4521.000000  4521.000000  4521.000000   \n",
       "mean     41.170095     4.095775     0.498120     1.231365     0.016810   \n",
       "std      10.576211     2.602310     0.695471     0.748744     0.128575   \n",
       "min      19.000000     0.000000     0.000000     0.000000     0.000000   \n",
       "25%      33.000000     2.000000     0.000000     1.000000     0.000000   \n",
       "50%      39.000000     3.000000     0.000000     1.000000     0.000000   \n",
       "75%      49.000000     5.000000     1.000000     2.000000     0.000000   \n",
       "max      87.000000    11.000000     2.000000     3.000000     1.000000   \n",
       "\n",
       "            balance      housing         loan      contact     duration  \\\n",
       "count   4521.000000  4521.000000  4521.000000  4521.000000  4521.000000   \n",
       "mean    1422.657819     0.566025     0.152842     0.426012   263.961292   \n",
       "std     3009.638142     0.495676     0.359875     0.614626   259.856633   \n",
       "min    -3313.000000     0.000000     0.000000     0.000000     4.000000   \n",
       "25%       69.000000     0.000000     0.000000     0.000000   104.000000   \n",
       "50%      444.000000     1.000000     0.000000     0.000000   185.000000   \n",
       "75%     1480.000000     1.000000     0.000000     1.000000   329.000000   \n",
       "max    71188.000000     1.000000     1.000000     2.000000  3025.000000   \n",
       "\n",
       "          campaign        pdays     previous     poutcome            y  \\\n",
       "count  4521.000000  4521.000000  4521.000000  4521.000000  4521.000000   \n",
       "mean      2.793630    39.766645     0.542579     0.281132     0.115240   \n",
       "std       3.109807   100.121124     1.693562     0.678637     0.319347   \n",
       "min       1.000000    -1.000000     0.000000     0.000000     0.000000   \n",
       "25%       1.000000    -1.000000     0.000000     0.000000     0.000000   \n",
       "50%       2.000000    -1.000000     0.000000     0.000000     0.000000   \n",
       "75%       3.000000    -1.000000     0.000000     0.000000     0.000000   \n",
       "max      50.000000   871.000000    25.000000     3.000000     1.000000   \n",
       "\n",
       "              time  \n",
       "count  4521.000000  \n",
       "mean    632.593010  \n",
       "std     238.643077  \n",
       "min     107.000000  \n",
       "25%     511.000000  \n",
       "50%     605.000000  \n",
       "75%     805.000000  \n",
       "max    1231.000000  "
      ]
     },
     "execution_count": 14,
     "metadata": {},
     "output_type": "execute_result"
    }
   ],
   "source": [
    "df.describe()"
   ]
  },
  {
   "cell_type": "markdown",
   "metadata": {},
   "source": [
    "* The sample volume is 4521\n",
    "* age, balance, pdays, campagin are features with high variation. It is a good idea to normalize them before training to get higher training speed and higher possibility of reaching the global optimum"
   ]
  },
  {
   "cell_type": "markdown",
   "metadata": {},
   "source": [
    "## 2. Training"
   ]
  },
  {
   "cell_type": "code",
   "execution_count": 15,
   "metadata": {
    "collapsed": true
   },
   "outputs": [],
   "source": [
    "df.columns\n",
    "y = np.array(df['y'])\n",
    "features_name = list(df.columns)\n",
    "features_name.remove('y')"
   ]
  },
  {
   "cell_type": "code",
   "execution_count": 16,
   "metadata": {},
   "outputs": [
    {
     "name": "stderr",
     "output_type": "stream",
     "text": [
      "/Users/apple/anaconda3/lib/python3.6/site-packages/sklearn/utils/validation.py:475: DataConversionWarning: Data with input dtype int64 was converted to float64 by StandardScaler.\n",
      "  warnings.warn(msg, DataConversionWarning)\n"
     ]
    }
   ],
   "source": [
    "sample_features = random.sample(features_name, len(features_name))\n",
    "X = np.array(df[sample_features])\n",
    "X_train, X_test, y_train, y_test = train_test_split(\n",
    "    X, y, test_size=0.3, random_state=1)\n",
    "sc = StandardScaler()\n",
    "sc.fit(X_train)\n",
    "X_train_std = sc.transform(X_train)\n",
    "X_test_std = sc.transform(X_test)"
   ]
  },
  {
   "cell_type": "code",
   "execution_count": 17,
   "metadata": {},
   "outputs": [
    {
     "name": "stdout",
     "output_type": "stream",
     "text": [
      "Accuracy: 0.80\n"
     ]
    }
   ],
   "source": [
    "from sklearn.svm import SVC\n",
    "svm = SVC(kernel='rbf', random_state=1, gamma=0.001, C=5.0, class_weight = {1: 10})#Class_Weight to handle imbalance data\n",
    "svm.fit(X_train_std, y_train)\n",
    "from sklearn.metrics import accuracy_score\n",
    "y_pred = svm.predict(X_test_std)\n",
    "print('Accuracy: %.2f' % accuracy_score(y_test, y_pred))"
   ]
  },
  {
   "cell_type": "code",
   "execution_count": 18,
   "metadata": {},
   "outputs": [
    {
     "name": "stdout",
     "output_type": "stream",
     "text": [
      "accuracy of 1: 0.79%\n",
      "accuracy of 0: 0.80%\n"
     ]
    }
   ],
   "source": [
    "a = pd.DataFrame({'test': y_test, 'pred': y_pred})\n",
    "correct_1 = len(a[(a['test'] == 1) & (a['test'] == a['pred'])]) / len(a[(a['test'] == 1)])\n",
    "correct_0 = len(a[(a['test'] == 0) & (a['test'] == a['pred'])]) / len(a[(a['test'] == 0)])\n",
    "print ('accuracy of 1: %.2f%%' %correct_1)\n",
    "print ('accuracy of 0: %.2f%%' %correct_0)"
   ]
  },
  {
   "cell_type": "markdown",
   "metadata": {},
   "source": [
    "### 2.2 Consider the best two features"
   ]
  },
  {
   "cell_type": "code",
   "execution_count": 19,
   "metadata": {
    "collapsed": true
   },
   "outputs": [],
   "source": [
    "def train(x_train, y_train, x_test, y_test):\n",
    "    result = []\n",
    "    svm = SVC(kernel='rbf', random_state=1, gamma=0.001, C=5.0, class_weight = {1: 10})#Class_Weight to handle imbalance data\n",
    "    svm.fit(x_train, y_train)\n",
    "    y_pred = svm.predict(x_test)\n",
    "    result.append(accuracy_score(y_test, y_pred))\n",
    "    a = pd.DataFrame({'test': y_test, 'pred': y_pred})\n",
    "    correct_1 = len(a[(a['test'] == 1) & (a['test'] == a['pred'])]) / len(a[(a['test'] == 1)])\n",
    "    correct_0 = len(a[(a['test'] == 0) & (a['test'] == a['pred'])]) / len(a[(a['test'] == 0)])\n",
    "    result.append(correct_1)\n",
    "    result.append(correct_0)\n",
    "    return result"
   ]
  },
  {
   "cell_type": "code",
   "execution_count": 58,
   "metadata": {},
   "outputs": [
    {
     "name": "stderr",
     "output_type": "stream",
     "text": [
      "/Users/apple/anaconda3/lib/python3.6/site-packages/sklearn/utils/validation.py:475: DataConversionWarning: Data with input dtype int64 was converted to float64 by StandardScaler.\n",
      "  warnings.warn(msg, DataConversionWarning)\n"
     ]
    },
    {
     "name": "stdout",
     "output_type": "stream",
     "text": [
      "default marital\n",
      "default duration\n",
      "default contact\n",
      "default job\n",
      "default age\n",
      "default poutcome\n",
      "default loan\n",
      "default previous\n",
      "default time\n",
      "default housing\n",
      "default balance\n",
      "default education\n",
      "default campaign\n",
      "default pdays\n",
      "marital default\n",
      "marital duration\n",
      "marital contact\n",
      "marital job\n",
      "marital age\n",
      "marital poutcome\n",
      "marital loan\n",
      "marital previous\n",
      "marital time\n",
      "marital housing\n",
      "marital balance\n",
      "marital education\n",
      "marital campaign\n",
      "marital pdays\n",
      "duration default\n",
      "duration marital\n",
      "duration contact\n",
      "duration job\n",
      "duration age\n",
      "duration poutcome\n",
      "duration loan\n",
      "duration previous\n",
      "duration time\n",
      "duration housing\n",
      "duration balance\n",
      "duration education\n",
      "duration campaign\n",
      "duration pdays\n",
      "contact default\n",
      "contact marital\n",
      "contact duration\n",
      "contact job\n",
      "contact age\n",
      "contact poutcome\n",
      "contact loan\n",
      "contact previous\n",
      "contact time\n",
      "contact housing\n",
      "contact balance\n",
      "contact education\n",
      "contact campaign\n",
      "contact pdays\n",
      "job default\n",
      "job marital\n",
      "job duration\n",
      "job contact\n",
      "job age\n",
      "job poutcome\n",
      "job loan\n",
      "job previous\n",
      "job time\n",
      "job housing\n",
      "job balance\n",
      "job education\n",
      "job campaign\n",
      "job pdays\n",
      "age default\n",
      "age marital\n",
      "age duration\n",
      "age contact\n",
      "age job\n",
      "age poutcome\n",
      "age loan\n",
      "age previous\n",
      "age time\n",
      "age housing\n",
      "age balance\n",
      "age education\n",
      "age campaign\n",
      "age pdays\n",
      "poutcome default\n",
      "poutcome marital\n",
      "poutcome duration\n",
      "poutcome contact\n",
      "poutcome job\n",
      "poutcome age\n",
      "poutcome loan\n",
      "poutcome previous\n",
      "poutcome time\n",
      "poutcome housing\n",
      "poutcome balance\n",
      "poutcome education\n",
      "poutcome campaign\n",
      "poutcome pdays\n",
      "loan default\n",
      "loan marital\n",
      "loan duration\n",
      "loan contact\n",
      "loan job\n",
      "loan age\n",
      "loan poutcome\n",
      "loan previous\n",
      "loan time\n",
      "loan housing\n",
      "loan balance\n",
      "loan education\n",
      "loan campaign\n",
      "loan pdays\n",
      "previous default\n",
      "previous marital\n",
      "previous duration\n",
      "previous contact\n",
      "previous job\n",
      "previous age\n",
      "previous poutcome\n",
      "previous loan\n",
      "previous time\n",
      "previous housing\n",
      "previous balance\n",
      "previous education\n",
      "previous campaign\n",
      "previous pdays\n",
      "time default\n",
      "time marital\n",
      "time duration\n",
      "time contact\n",
      "time job\n",
      "time age\n",
      "time poutcome\n",
      "time loan\n",
      "time previous\n",
      "time housing\n",
      "time balance\n",
      "time education\n",
      "time campaign\n",
      "time pdays\n",
      "housing default\n",
      "housing marital\n",
      "housing duration\n",
      "housing contact\n",
      "housing job\n",
      "housing age\n",
      "housing poutcome\n",
      "housing loan\n",
      "housing previous\n",
      "housing time\n",
      "housing balance\n",
      "housing education\n",
      "housing campaign\n",
      "housing pdays\n",
      "balance default\n",
      "balance marital\n",
      "balance duration\n",
      "balance contact\n",
      "balance job\n",
      "balance age\n",
      "balance poutcome\n",
      "balance loan\n",
      "balance previous\n",
      "balance time\n",
      "balance housing\n",
      "balance education\n",
      "balance campaign\n",
      "balance pdays\n",
      "education default\n",
      "education marital\n",
      "education duration\n",
      "education contact\n",
      "education job\n",
      "education age\n",
      "education poutcome\n",
      "education loan\n",
      "education previous\n",
      "education time\n",
      "education housing\n",
      "education balance\n",
      "education campaign\n",
      "education pdays\n",
      "campaign default\n",
      "campaign marital\n",
      "campaign duration\n",
      "campaign contact\n",
      "campaign job\n",
      "campaign age\n",
      "campaign poutcome\n",
      "campaign loan\n",
      "campaign previous\n",
      "campaign time\n",
      "campaign housing\n",
      "campaign balance\n",
      "campaign education\n",
      "campaign pdays\n",
      "pdays default\n",
      "pdays marital\n",
      "pdays duration\n",
      "pdays contact\n",
      "pdays job\n",
      "pdays age\n",
      "pdays poutcome\n",
      "pdays loan\n",
      "pdays previous\n",
      "pdays time\n",
      "pdays housing\n",
      "pdays balance\n",
      "pdays education\n",
      "pdays campaign\n"
     ]
    }
   ],
   "source": [
    "sample_features = features_name\n",
    "count = 0\n",
    "finaldict = {}\n",
    "for i in sample_features:\n",
    "    for j in sample_features:\n",
    "        if i == j:\n",
    "            continue\n",
    "        X = np.array(df[[i, j]])\n",
    "        X_train, X_test, y_train, y_test = train_test_split(\n",
    "            X, y, test_size=0.3, random_state=1)\n",
    "        sc = StandardScaler()\n",
    "        sc.fit(X_train)\n",
    "        X_train_std = sc.transform(X_train)\n",
    "        X_test_std = sc.transform(X_test)\n",
    "        result = train(X_train_std, y_train, X_test_std, y_test)\n",
    "        print (i, j)\n",
    "        finaldict[i + '-' + j] = result\n",
    "        count += 1"
   ]
  },
  {
   "cell_type": "code",
   "execution_count": 59,
   "metadata": {
    "collapsed": true
   },
   "outputs": [],
   "source": [
    "finaldf = pd.DataFrame(finaldict)"
   ]
  },
  {
   "cell_type": "code",
   "execution_count": 60,
   "metadata": {
    "collapsed": true
   },
   "outputs": [],
   "source": [
    "finaldf = finaldf.T"
   ]
  },
  {
   "cell_type": "code",
   "execution_count": 61,
   "metadata": {
    "collapsed": true
   },
   "outputs": [],
   "source": [
    "finaldf.columns = ['Total Accuracy', 'Accuracy of 1', 'Accuracy of 0']"
   ]
  },
  {
   "cell_type": "code",
   "execution_count": 68,
   "metadata": {},
   "outputs": [
    {
     "data": {
      "text/html": [
       "<div>\n",
       "<style>\n",
       "    .dataframe thead tr:only-child th {\n",
       "        text-align: right;\n",
       "    }\n",
       "\n",
       "    .dataframe thead th {\n",
       "        text-align: left;\n",
       "    }\n",
       "\n",
       "    .dataframe tbody tr th {\n",
       "        vertical-align: top;\n",
       "    }\n",
       "</style>\n",
       "<table border=\"1\" class=\"dataframe\">\n",
       "  <thead>\n",
       "    <tr style=\"text-align: right;\">\n",
       "      <th></th>\n",
       "      <th>Total Accuracy</th>\n",
       "      <th>Accuracy of 1</th>\n",
       "      <th>Accuracy of 0</th>\n",
       "    </tr>\n",
       "  </thead>\n",
       "  <tbody>\n",
       "    <tr>\n",
       "      <th>duration-poutcome</th>\n",
       "      <td>0.787767</td>\n",
       "      <td>0.725714</td>\n",
       "      <td>0.796954</td>\n",
       "    </tr>\n",
       "    <tr>\n",
       "      <th>poutcome-duration</th>\n",
       "      <td>0.787767</td>\n",
       "      <td>0.725714</td>\n",
       "      <td>0.796954</td>\n",
       "    </tr>\n",
       "  </tbody>\n",
       "</table>\n",
       "</div>"
      ],
      "text/plain": [
       "                   Total Accuracy  Accuracy of 1  Accuracy of 0\n",
       "duration-poutcome        0.787767       0.725714       0.796954\n",
       "poutcome-duration        0.787767       0.725714       0.796954"
      ]
     },
     "execution_count": 68,
     "metadata": {},
     "output_type": "execute_result"
    }
   ],
   "source": [
    "finaldf[finaldf['Total Accuracy'] > 0.78]"
   ]
  },
  {
   "cell_type": "code",
   "execution_count": 20,
   "metadata": {},
   "outputs": [
    {
     "name": "stderr",
     "output_type": "stream",
     "text": [
      "/Users/apple/anaconda3/lib/python3.6/site-packages/sklearn/utils/validation.py:475: DataConversionWarning: Data with input dtype int64 was converted to float64 by StandardScaler.\n",
      "  warnings.warn(msg, DataConversionWarning)\n"
     ]
    }
   ],
   "source": [
    "X = np.array(df[['duration', 'poutcome']])\n",
    "X_train, X_test, y_train, y_test = train_test_split(\n",
    "    X, y, test_size=0.3, random_state=1)\n",
    "sc = StandardScaler()\n",
    "sc.fit(X_train)\n",
    "X_train_std = sc.transform(X_train)\n",
    "X_test_std = sc.transform(X_test)\n",
    "X_combined_std = np.vstack((X_train_std, X_test_std))\n",
    "y_combined = np.hstack((y_train, y_test))\n",
    "\n",
    "\n"
   ]
  },
  {
   "cell_type": "code",
   "execution_count": 21,
   "metadata": {},
   "outputs": [
    {
     "data": {
      "image/png": "[encoded data removed]",
      "text/plain": [
       "<matplotlib.figure.Figure at 0x1a1400b320>"
      ]
     },
     "metadata": {},
     "output_type": "display_data"
    }
   ],
   "source": [
    "svm = SVC(kernel='rbf', random_state=1, gamma=0.001, C=5.0, class_weight = {1: 10})#Class_Weight to handle imbalance data\n",
    "svm.fit(X_train, y_train)\n",
    "X = np.array(df[sample_features])\n",
    "plot_decision_regions(X_combined_std, y_combined,\n",
    "                      classifier=svm)\n",
    "plt.xlabel('duration [standardized]')\n",
    "plt.ylabel('poutcome [standardized]')\n",
    "plt.legend(loc='upper left')\n",
    "\n",
    "plt.tight_layout()\n",
    "# plt.savefig('./figures/iris_perceptron_scikit.png', dpi=300)\n",
    "plt.show()"
   ]
  }
 ],
 "metadata": {
  "kernelspec": {
   "display_name": "Python 3",
   "language": "python",
   "name": "python3"
  },
  "language_info": {
   "codemirror_mode": {
    "name": "ipython",
    "version": 3
   },
   "file_extension": ".py",
   "mimetype": "text/x-python",
   "name": "python",
   "nbconvert_exporter": "python",
   "pygments_lexer": "ipython3",
   "version": "3.6.3"
  }
 },
 "nbformat": 4,
 "nbformat_minor": 2
}
