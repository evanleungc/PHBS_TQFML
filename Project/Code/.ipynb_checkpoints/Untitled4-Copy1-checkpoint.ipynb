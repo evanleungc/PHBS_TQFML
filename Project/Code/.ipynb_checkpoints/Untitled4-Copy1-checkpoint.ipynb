{
 "cells": [
  {
   "cell_type": "markdown",
   "metadata": {},
   "source": [
    "# Predict low-risk profitable trading opportunity with high frequency trading data"
   ]
  },
  {
   "cell_type": "markdown",
   "metadata": {},
   "source": [
    "## Team members: <br />\n",
    "* 梁康华 1601213555<br />\n",
    "* 李君涵 1601213559<br />\n",
    "* 纪雪云 1601213544<br />\n",
    "* 王昊炜 1601213612"
   ]
  },
  {
   "cell_type": "markdown",
   "metadata": {},
   "source": [
    "## 0. Import Packages"
   ]
  },
  {
   "cell_type": "code",
   "execution_count": 58,
   "metadata": {},
   "outputs": [],
   "source": [
    "#Switch to '/evanleungc/PHBS_TQFML/Project/Code' Repository becuase some classes and functions are in the directory\n",
    "import os\n",
    "os.chdir('/Users/apple/Documents/PHBS_TQFML/Project/Code')\n",
    "import numpy as np\n",
    "import pandas as pd\n",
    "import os\n",
    "import feature_funcs as ff\n",
    "from HfqShare.Feature import Feature\n",
    "from keras.utils import np_utils\n",
    "from keras.models import Sequential\n",
    "from keras.layers import Dense, Activation, Dropout\n",
    "import keras.optimizers\n",
    "from sklearn.cross_validation import train_test_split\n",
    "from sklearn.preprocessing import StandardScaler\n",
    "from sklearn.metrics import roc_curve, auc\n",
    "import matplotlib.pyplot as plt\n",
    "%matplotlib inline"
   ]
  },
  {
   "cell_type": "markdown",
   "metadata": {},
   "source": [
    "## 1.Motivation"
   ]
  },
  {
   "cell_type": "markdown",
   "metadata": {},
   "source": [
    "* In the study of market microstructure, many researches prove that people with private information will buy and sell before non-informed traders.\n",
    "* These traders tend to generate abnormal trading volume or price fluctuation in the market.\n",
    "* High frequency data is a more precise and instant catch of these change and behavior.\n",
    "* These behavior may generate complicated pattern and our team will attempt to employ machine learning algorithms to find these patterns and exploit profitable opportunity."
   ]
  },
  {
   "cell_type": "markdown",
   "metadata": {},
   "source": [
    "## 2. Data Description"
   ]
  },
  {
   "cell_type": "markdown",
   "metadata": {},
   "source": [
    "* The dataset we used in this project consists of two basic dataset:\n",
    "* (1)**High Frequency Trading Volume Dataset**. It is collected by webspider from Sina Finance, which is a level-2 data consisting the 'Active Buy' or 'Active Sell' high frequency data\n",
    "* (2)**5-min Frequency Trading Data**. It is collected in wind, which consists open, high, low ,close, trading volume and trading amount in 5-min frequency level\n",
    "* We will combine these two basic dataset as the high frequency dataset we use in this project\n",
    "* All A-Stocks in China are included"
   ]
  },
  {
   "cell_type": "markdown",
   "metadata": {},
   "source": [
    "## 3. Feature Generation"
   ]
  },
  {
   "cell_type": "markdown",
   "metadata": {},
   "source": [
    "### 3.1. Generate 5-min Features\n",
    "The following part will show how we generate feautres based on the 5-min frequency dataset. [See descriptions](#jump_1)"
   ]
  },
  {
   "cell_type": "code",
   "execution_count": 7,
   "metadata": {},
   "outputs": [],
   "source": [
    "#Switch to '/Data' repository to get data\n",
    "current_path = os.getcwd()\n",
    "data_path = os.path.dirname(os.getcwd()) + '/Data/'"
   ]
  },
  {
   "cell_type": "code",
   "execution_count": null,
   "metadata": {},
   "outputs": [],
   "source": [
    "path = data_path + 'Stk_5F_2018/Stk_5F_2018/'\n",
    "funcs = Feature(path)\n",
    "funcs.apply_feature(feature_name = ['buyprice', 'high', 'low', 'canbuy', 'growth_rate', 'amplitude', 'above_mean'],\\\n",
    "\tintra = (ff.get_buy, ff.get_high, ff.get_low, ff.get_canbuy, ff.growth_rate, ff.amplitude, ff.above_mean))\n",
    "df1 = funcs.gen_train_data()\n",
    "path = path + 'Stk_5F_2017/Stk_5F_2017/'\n",
    "funcs = Feature(path)\n",
    "funcs.apply_feature(feature_name = ['buyprice', 'high', 'low', 'canbuy', 'growth_rate', 'amplitude', 'above_mean'],\\\n",
    "\tintra = (ff.get_buy, ff.get_high, ff.get_low, ff.get_canbuy, ff.growth_rate, ff.amplitude, ff.above_mean))\n",
    "df2 = funcs.gen_train_data()\n",
    "df = pd.concat([df1,df2])\n",
    "lag = 2\n",
    "df = ff.take_lag(df, 'buyprice', lagnum = lag)\n",
    "df = ff.take_lag(df, 'buyprice', lagnum = 1)\n",
    "df = ff.take_lag(df, 'canbuy', lagnum = lag)\n",
    "df['target'] = [0 for i in range(len(df))]\n",
    "df['buyret'] = df['high'] / df['lag_%s_buyprice'%lag] - 1\n",
    "df['risk'] = df['low'] / df['lag_%s_buyprice'%lag] - 1\n",
    "df['target'][(df['buyret'] > 0.03) & (df['risk'] > -0.02) & (df['lag_%s_canbuy'%lag] == 1)] = 1"
   ]
  },
  {
   "cell_type": "markdown",
   "metadata": {},
   "source": [
    "<span id=\"jump_1\">The following is the key variables description</span>"
   ]
  },
  {
   "cell_type": "code",
   "execution_count": 45,
   "metadata": {},
   "outputs": [
    {
     "data": {
      "text/html": [
       "<div>\n",
       "<style>\n",
       "    .dataframe thead tr:only-child th {\n",
       "        text-align: right;\n",
       "    }\n",
       "\n",
       "    .dataframe thead th {\n",
       "        text-align: left;\n",
       "    }\n",
       "\n",
       "    .dataframe tbody tr th {\n",
       "        vertical-align: top;\n",
       "    }\n",
       "</style>\n",
       "<table border=\"1\" class=\"dataframe\">\n",
       "  <thead>\n",
       "    <tr style=\"text-align: right;\">\n",
       "      <th></th>\n",
       "      <th>above_mean</th>\n",
       "      <th>amplitude</th>\n",
       "      <th>buyprice</th>\n",
       "      <th>canbuy</th>\n",
       "      <th>code</th>\n",
       "      <th>date</th>\n",
       "      <th>growth_rate</th>\n",
       "      <th>high</th>\n",
       "      <th>lag_1_code</th>\n",
       "      <th>low</th>\n",
       "      <th>lag_2_buyprice</th>\n",
       "      <th>lag_1_buyprice</th>\n",
       "      <th>lag_2_canbuy</th>\n",
       "      <th>target</th>\n",
       "      <th>buyret</th>\n",
       "      <th>risk</th>\n",
       "    </tr>\n",
       "  </thead>\n",
       "  <tbody>\n",
       "    <tr>\n",
       "      <th>119545</th>\n",
       "      <td>0.0</td>\n",
       "      <td>0.070301</td>\n",
       "      <td>44.76</td>\n",
       "      <td>0.0</td>\n",
       "      <td>300740</td>\n",
       "      <td>2018-02-22</td>\n",
       "      <td>0.040930</td>\n",
       "      <td>44.76</td>\n",
       "      <td>300740.0</td>\n",
       "      <td>41.82</td>\n",
       "      <td>36.99</td>\n",
       "      <td>40.69</td>\n",
       "      <td>0.0</td>\n",
       "      <td>0</td>\n",
       "      <td>0.210057</td>\n",
       "      <td>0.130576</td>\n",
       "    </tr>\n",
       "    <tr>\n",
       "      <th>119546</th>\n",
       "      <td>0.0</td>\n",
       "      <td>0.160664</td>\n",
       "      <td>43.68</td>\n",
       "      <td>1.0</td>\n",
       "      <td>300740</td>\n",
       "      <td>2018-02-23</td>\n",
       "      <td>-0.108207</td>\n",
       "      <td>48.98</td>\n",
       "      <td>300740.0</td>\n",
       "      <td>42.20</td>\n",
       "      <td>40.69</td>\n",
       "      <td>44.76</td>\n",
       "      <td>0.0</td>\n",
       "      <td>0</td>\n",
       "      <td>0.203736</td>\n",
       "      <td>0.037110</td>\n",
       "    </tr>\n",
       "    <tr>\n",
       "      <th>119547</th>\n",
       "      <td>1.0</td>\n",
       "      <td>0.097967</td>\n",
       "      <td>47.52</td>\n",
       "      <td>1.0</td>\n",
       "      <td>300740</td>\n",
       "      <td>2018-02-26</td>\n",
       "      <td>0.091959</td>\n",
       "      <td>47.52</td>\n",
       "      <td>300740.0</td>\n",
       "      <td>43.28</td>\n",
       "      <td>44.76</td>\n",
       "      <td>43.68</td>\n",
       "      <td>0.0</td>\n",
       "      <td>0</td>\n",
       "      <td>0.061662</td>\n",
       "      <td>-0.033065</td>\n",
       "    </tr>\n",
       "    <tr>\n",
       "      <th>119548</th>\n",
       "      <td>0.0</td>\n",
       "      <td>0.081350</td>\n",
       "      <td>48.20</td>\n",
       "      <td>1.0</td>\n",
       "      <td>300740</td>\n",
       "      <td>2018-02-27</td>\n",
       "      <td>0.008228</td>\n",
       "      <td>49.98</td>\n",
       "      <td>300740.0</td>\n",
       "      <td>46.22</td>\n",
       "      <td>43.68</td>\n",
       "      <td>47.52</td>\n",
       "      <td>1.0</td>\n",
       "      <td>1</td>\n",
       "      <td>0.144231</td>\n",
       "      <td>0.058150</td>\n",
       "    </tr>\n",
       "    <tr>\n",
       "      <th>119549</th>\n",
       "      <td>0.0</td>\n",
       "      <td>0.046582</td>\n",
       "      <td>47.10</td>\n",
       "      <td>1.0</td>\n",
       "      <td>300740</td>\n",
       "      <td>2018-02-28</td>\n",
       "      <td>0.007739</td>\n",
       "      <td>48.08</td>\n",
       "      <td>300740.0</td>\n",
       "      <td>45.94</td>\n",
       "      <td>47.52</td>\n",
       "      <td>48.20</td>\n",
       "      <td>1.0</td>\n",
       "      <td>0</td>\n",
       "      <td>0.011785</td>\n",
       "      <td>-0.033249</td>\n",
       "    </tr>\n",
       "  </tbody>\n",
       "</table>\n",
       "</div>"
      ],
      "text/plain": [
       "        above_mean  amplitude  buyprice  canbuy    code        date  \\\n",
       "119545         0.0   0.070301     44.76     0.0  300740  2018-02-22   \n",
       "119546         0.0   0.160664     43.68     1.0  300740  2018-02-23   \n",
       "119547         1.0   0.097967     47.52     1.0  300740  2018-02-26   \n",
       "119548         0.0   0.081350     48.20     1.0  300740  2018-02-27   \n",
       "119549         0.0   0.046582     47.10     1.0  300740  2018-02-28   \n",
       "\n",
       "        growth_rate   high  lag_1_code    low  lag_2_buyprice  lag_1_buyprice  \\\n",
       "119545     0.040930  44.76    300740.0  41.82           36.99           40.69   \n",
       "119546    -0.108207  48.98    300740.0  42.20           40.69           44.76   \n",
       "119547     0.091959  47.52    300740.0  43.28           44.76           43.68   \n",
       "119548     0.008228  49.98    300740.0  46.22           43.68           47.52   \n",
       "119549     0.007739  48.08    300740.0  45.94           47.52           48.20   \n",
       "\n",
       "        lag_2_canbuy  target    buyret      risk  \n",
       "119545           0.0       0  0.210057  0.130576  \n",
       "119546           0.0       0  0.203736  0.037110  \n",
       "119547           0.0       0  0.061662 -0.033065  \n",
       "119548           1.0       1  0.144231  0.058150  \n",
       "119549           1.0       0  0.011785 -0.033249  "
      ]
     },
     "execution_count": 45,
     "metadata": {},
     "output_type": "execute_result"
    }
   ],
   "source": [
    "df.tail()"
   ]
  },
  {
   "cell_type": "markdown",
   "metadata": {},
   "source": [
    "* **buyprice:** It is the highest price in the last 20 miniutes of a trading day. We are going to assume we buy at this price.\n",
    "* **canbuy:** If the stock has reached the price ceiling or floor, we assume that we cannot buy this stock and the variable will be 0. Otherwise, we assume that we can buy this stock and the variable will be 1. When doing the training, we will exclude all the samples with canbuy == 0.\n",
    "* **buyret:** The return of buying at buyprice and sell in the highest price in the next two days.\n",
    "* **risk:** The loss of buying at buyprice and sell in the lowest price in the next two days.\n",
    "* **target:** The training target we use in this project. If in next twodays, the buyret > 0.03 and risk < -0.02, we consider it as a low-risk profitable trading opportunity and we set the label to be 1. Otherwise, we set it to be 0. \n",
    "\n",
    "Within the variables, there are two features we construct from the 5-min frequency data\n",
    "* **amplitude:**\n",
    "* **above_mean:**"
   ]
  },
  {
   "cell_type": "markdown",
   "metadata": {},
   "source": [
    "### 3.2. Generate High-Frequency Features\n",
    "[See Descriptions](#jump_2)"
   ]
  },
  {
   "cell_type": "code",
   "execution_count": null,
   "metadata": {},
   "outputs": [],
   "source": [
    "hfqpath = data_path + 'group_data/'\n",
    "hfqamount = pd.DataFrame()\n",
    "for i in os.listdir(hfqpath):\n",
    "    if i[0:5] == 'group':\n",
    "        hfqamount = hfqamount.append(pd.read_csv(hfqpath + i, index_col = 0))\n",
    "lag = 2\n",
    "hfqamount['code'] = hfqamount['code'].map(ff.convert_stock)\n",
    "hfqamount = hfqamount.drop('pchange_whole', axis = 1)\n",
    "df['code'] = df['code'].map(ff.convert_stock)\n",
    "df['date'] = df['date'].map(ff.convert_date)\n",
    "mergedf = pd.merge(df, hfqamount, on = ['code', 'date'], how = 'left')\n",
    "traindf = mergedf.dropna()\n",
    "traindf = traindf.sort_values(['code', 'date'])\n",
    "traindf = ff.take_lag(traindf, 'code')\n",
    "traindf = traindf.sort_values(['code', 'date'])\n",
    "traindf = traindf[traindf['code'] == traindf['lag_1_code']]\n",
    "traindf = ff.take_forward(traindf, 'code', fnum = lag)\n",
    "traindf = traindf.sort_values(['code', 'date'])\n",
    "traindf = traindf[traindf['code'] == traindf['f_%s_code'%lag]]\n",
    "traindf = ff.take_forward(traindf, 'target', fnum = lag)\n",
    "traindf['f_%s_target'%lag][traindf['canbuy'] == 0] = np.nan\n",
    "traindf = traindf.sort_values(['code', 'date'])\n",
    "days = 3\n",
    "for i in range(1, days + 1):\n",
    "    for j in range(8):\n",
    "        traindf = ff.take_lag(traindf, 'buy_vol_%s'%j, i)\n",
    "        traindf = ff.take_lag(traindf, 'sell_vol_%s'%j, i)\n",
    "    traindf = ff.take_lag(traindf, 'sumbuy', i)\n",
    "    traindf = ff.take_lag(traindf, 'sumsell', i)\n",
    "\n",
    "for i in range(1, days + 1):\n",
    "    traindf = ff.take_lag(traindf, 'code', lagnum = i)\n",
    "for i in range(1, days + 1):\n",
    "    traindf = traindf[traindf['code'] == traindf['lag_%s_code'%i]]\n",
    "\n",
    "features = []\n",
    "features.append('pchange')\n",
    "for i in range(8):\n",
    "    traindf['buy_rate_%s'%i] = traindf['buy_vol_%s'%i] / traindf['sumsell']\n",
    "    features.append('buy_rate_%s'%i)\n",
    "for i in range(8):\n",
    "    traindf['sell_rate_%s'%i] = traindf['sell_vol_%s'%i] / traindf['sumbuy']\n",
    "    features.append('sell_rate_%s'%i)\n",
    "traindf['total_rate'] = traindf['sumbuy'] / traindf['sumsell']\n",
    "features.append('total_rate')\n",
    "\n",
    "for j in range(1, days + 1):\n",
    "    for i in range(8):\n",
    "        traindf['lag_%s_buy_rate_%s'%(j, i)] = traindf['lag_%s_buy_vol_%s'%(j, i)] / traindf['lag_%s_sumsell'%j]\n",
    "        features.append('lag_%s_buy_rate_%s'%(j, i))\n",
    "    for i in range(8):\n",
    "        traindf['lag_%s_sell_rate_%s'%(j, i)] = traindf['lag_%s_sell_vol_%s'%(j, i)] / traindf['lag_%s_sumbuy'%j]\n",
    "        features.append('lag_%s_sell_rate_%s'%(j, i))\n",
    "    traindf['lag_%s_total_rate'%j] = traindf['lag_%s_sumbuy'%j] / traindf['lag_%s_sumsell'%j]\n",
    "    features.append('lag_%s_total_rate'%j)\n",
    "    traindf = ff.take_lag(traindf, 'pchange', j)\n",
    "    features.append('lag_%s_pchange'%j)\n",
    "\n",
    "dropidx = list(traindf[traindf['sumsell'] == 0].index)\n",
    "traindf = traindf.drop(dropidx)\n",
    "dropidx = list(traindf[traindf['sumbuy'] == 0].index)\n",
    "traindf = traindf.drop(dropidx)\n",
    "\n",
    "dropidx = list(traindf[traindf['total_rate'] > 5].index)\n",
    "traindf = traindf.drop(dropidx)\n",
    "\n",
    "traindf[features] = traindf[features].applymap(ff.replace_inf)\n",
    "traindf = traindf.dropna()\n",
    "features.extend(['amplitude', 'above_mean'])"
   ]
  },
  {
   "cell_type": "markdown",
   "metadata": {},
   "source": [
    "<span id=jump_2>Variables Descriptions is as follow</span>"
   ]
  },
  {
   "cell_type": "code",
   "execution_count": 28,
   "metadata": {},
   "outputs": [
    {
     "data": {
      "text/html": [
       "<div>\n",
       "<style>\n",
       "    .dataframe thead tr:only-child th {\n",
       "        text-align: right;\n",
       "    }\n",
       "\n",
       "    .dataframe thead th {\n",
       "        text-align: left;\n",
       "    }\n",
       "\n",
       "    .dataframe tbody tr th {\n",
       "        vertical-align: top;\n",
       "    }\n",
       "</style>\n",
       "<table border=\"1\" class=\"dataframe\">\n",
       "  <thead>\n",
       "    <tr style=\"text-align: right;\">\n",
       "      <th></th>\n",
       "      <th>buy_rate_0</th>\n",
       "      <th>sell_rate_0</th>\n",
       "      <th>lag_1_buy_rate_0</th>\n",
       "      <th>lag_1_sell_rate_0</th>\n",
       "      <th>total_rate</th>\n",
       "      <th>pchange</th>\n",
       "    </tr>\n",
       "  </thead>\n",
       "  <tbody>\n",
       "    <tr>\n",
       "      <th>296977</th>\n",
       "      <td>0.004262</td>\n",
       "      <td>0.002643</td>\n",
       "      <td>0.004445</td>\n",
       "      <td>0.002569</td>\n",
       "      <td>1.145529</td>\n",
       "      <td>0.000000</td>\n",
       "    </tr>\n",
       "    <tr>\n",
       "      <th>296978</th>\n",
       "      <td>0.003005</td>\n",
       "      <td>0.002906</td>\n",
       "      <td>0.004262</td>\n",
       "      <td>0.002643</td>\n",
       "      <td>1.074781</td>\n",
       "      <td>-0.000870</td>\n",
       "    </tr>\n",
       "    <tr>\n",
       "      <th>296979</th>\n",
       "      <td>0.003534</td>\n",
       "      <td>0.002233</td>\n",
       "      <td>0.003005</td>\n",
       "      <td>0.002906</td>\n",
       "      <td>0.757473</td>\n",
       "      <td>-0.011374</td>\n",
       "    </tr>\n",
       "    <tr>\n",
       "      <th>296980</th>\n",
       "      <td>0.004373</td>\n",
       "      <td>0.003634</td>\n",
       "      <td>0.003534</td>\n",
       "      <td>0.002233</td>\n",
       "      <td>0.702509</td>\n",
       "      <td>0.000886</td>\n",
       "    </tr>\n",
       "    <tr>\n",
       "      <th>296981</th>\n",
       "      <td>0.005291</td>\n",
       "      <td>0.003649</td>\n",
       "      <td>0.004373</td>\n",
       "      <td>0.003634</td>\n",
       "      <td>1.171033</td>\n",
       "      <td>-0.001778</td>\n",
       "    </tr>\n",
       "  </tbody>\n",
       "</table>\n",
       "</div>"
      ],
      "text/plain": [
       "        buy_rate_0  sell_rate_0  lag_1_buy_rate_0  lag_1_sell_rate_0  \\\n",
       "296977    0.004262     0.002643          0.004445           0.002569   \n",
       "296978    0.003005     0.002906          0.004262           0.002643   \n",
       "296979    0.003534     0.002233          0.003005           0.002906   \n",
       "296980    0.004373     0.003634          0.003534           0.002233   \n",
       "296981    0.005291     0.003649          0.004373           0.003634   \n",
       "\n",
       "        total_rate   pchange  \n",
       "296977    1.145529  0.000000  \n",
       "296978    1.074781 -0.000870  \n",
       "296979    0.757473 -0.011374  \n",
       "296980    0.702509  0.000886  \n",
       "296981    1.171033 -0.001778  "
      ]
     },
     "execution_count": 28,
     "metadata": {},
     "output_type": "execute_result"
    }
   ],
   "source": [
    "traindf[['buy_rate_0', 'sell_rate_0', 'lag_1_buy_rate_0', 'lag_1_sell_rate_0', 'total_rate', 'pchange']].head()"
   ]
  },
  {
   "cell_type": "markdown",
   "metadata": {},
   "source": [
    "* The high frequency volume will be divided in a quintile fashion based on the following thresholds: <br />\n",
    "vollist = [0, 10000, 50000, 100000, 200000, 300000, 400000, 500000, infinity]\n",
    "* The '0' in 'buy_rate_0' is the ratio of buying volume in [0, 10000] to total selling volume, showing the small traders buying power over total selling power. The relationship is as follow: <br />\n",
    "'0': [0, 10000] <br />\n",
    "'1': [10000, 50000] <br />\n",
    ".<br/>\n",
    ".<br/>\n",
    ".<br/>\n",
    "'6': [400000, 500000] <br />\n",
    "'7': [500000, infinity] <br />\n",
    "The larger number will show the larger buying power over total selling power.\n",
    "* The 'sell_rate_...' is the opposite. It shows the selling power in a certain range over the total buying power.\n",
    "* 'total_rate' indicate the total buying power over the total selling power\n",
    "* 'pchange' is the close price of the day / open price of the day - 1\n",
    "* The 'lag_1' means the feature one day before the trading day. We have 'lag_1', 'lag_2', 'lag_3' in this dataset."
   ]
  },
  {
   "cell_type": "markdown",
   "metadata": {},
   "source": [
    "### 3.3 Conclusion on Features\n",
    "* There are 74 features to train\n",
    "* The time range of the dataset is from 2017-09-04 to 2018-02-28"
   ]
  },
  {
   "cell_type": "markdown",
   "metadata": {},
   "source": [
    "## 4. Exploratory Data Analaysis\n",
    "After data preprocessing, we can check whether there is any problem inside the datset\n",
    "### 4.1. Missing Value Detection\n",
    "No missing values in the datasets"
   ]
  },
  {
   "cell_type": "code",
   "execution_count": 39,
   "metadata": {},
   "outputs": [
    {
     "data": {
      "text/plain": [
       "0"
      ]
     },
     "execution_count": 39,
     "metadata": {},
     "output_type": "execute_result"
    }
   ],
   "source": [
    "sum(traindf.isnull().sum())"
   ]
  },
  {
   "cell_type": "markdown",
   "metadata": {},
   "source": [
    "### 4.2. Imbalanced Check\n",
    "The imbalanced dataset problem is serious because only 16% of the labels are 1 and the rest are 0."
   ]
  },
  {
   "cell_type": "code",
   "execution_count": 44,
   "metadata": {},
   "outputs": [
    {
     "name": "stdout",
     "output_type": "stream",
     "text": [
      "0.16\n"
     ]
    }
   ],
   "source": [
    "print ('%.2f'%(sum(traindf['f_2_target'] == 1) / len(traindf)))"
   ]
  },
  {
   "cell_type": "markdown",
   "metadata": {},
   "source": [
    "### 4.3. Conclusion on Data\n",
    "The total observations of the data is 347364 and there is no missing value problem but a serious imbalance dataset problem."
   ]
  },
  {
   "cell_type": "code",
   "execution_count": 47,
   "metadata": {},
   "outputs": [
    {
     "data": {
      "text/plain": [
       "347364"
      ]
     },
     "execution_count": 47,
     "metadata": {},
     "output_type": "execute_result"
    }
   ],
   "source": [
    "len(traindf)"
   ]
  },
  {
   "cell_type": "markdown",
   "metadata": {},
   "source": [
    "## 5. Training"
   ]
  },
  {
   "cell_type": "markdown",
   "metadata": {},
   "source": [
    "### 5.1. Logistic Regression"
   ]
  },
  {
   "cell_type": "markdown",
   "metadata": {},
   "source": [
    "### 5.2. SVM"
   ]
  },
  {
   "cell_type": "markdown",
   "metadata": {},
   "source": [
    "### 5.3. DNN"
   ]
  },
  {
   "cell_type": "markdown",
   "metadata": {},
   "source": [
    "#### 5.3.1. Feature Preprocessing\n",
    "In terms of deep neural network, we use all the features in the training dataset and do standardization before training to increase to traning speed.\n",
    "To test the accuracy of the model, we train on 80% of the samples and test on 20% of the samples."
   ]
  },
  {
   "cell_type": "code",
   "execution_count": 48,
   "metadata": {},
   "outputs": [],
   "source": [
    "X = np.array(traindf[features])\n",
    "y = np.array(traindf['f_%s_target'%lag])\n",
    "y = y.reshape((y.shape[0], 1))\n",
    "x_train, x_test, y_train, y_test = train_test_split(X, y,\\\n",
    "                                                    test_size = 0.2, random_state = 11)\n",
    "sc = StandardScaler()\n",
    "sc.fit(x_train)\n",
    "x_train = sc.transform(x_train)\n",
    "x_test = sc.transform(x_test)"
   ]
  },
  {
   "cell_type": "markdown",
   "metadata": {},
   "source": [
    "#### 5.3.2. DNN Structures after hyperparameter tunning\n",
    "* We use **keras** package with tensorflow as kernel\n",
    "* **Sequential** Model is used\n",
    "* 1 input layer, 11 hidden layers, 1 output layers\n",
    "* Input and all the hidden layers employ '**ReLu**' activation function\n",
    "* The output layer employs '**Sigmoid**' activation function\n",
    "* Parameter cw = {0: 1, 1: 5.32} indicates that we give more weights on '1' label because of the **imbalance dataset**\n",
    "* The loss function we used in back propagation is '**binary_crossentropy**'\n",
    "* **Adam optimizer** is used because it considers both momentum effect and avoids gradient exposure"
   ]
  },
  {
   "cell_type": "code",
   "execution_count": 51,
   "metadata": {},
   "outputs": [],
   "source": [
    "model = Sequential()\n",
    "model.add(Dense(128, activation = 'relu', input_dim = x_train.shape[1]))\n",
    "model.add(Dense(64, activation = 'relu'))\n",
    "model.add(Dense(128, activation = 'relu'))\n",
    "model.add(Dense(64, activation = 'relu'))\n",
    "model.add(Dense(128, activation = 'relu'))\n",
    "model.add(Dense(64, activation = 'relu'))\n",
    "model.add(Dense(128, activation = 'relu'))\n",
    "model.add(Dense(64, activation = 'relu'))\n",
    "model.add(Dense(128, activation = 'relu'))\n",
    "model.add(Dense(64, activation = 'relu'))\n",
    "model.add(Dense(128, activation = 'relu'))\n",
    "model.add(Dense(64, activation = 'relu'))\n",
    "model.add(Dense(1, activation='sigmoid'))\n",
    "portion = np.sum(traindf['target'] == 0) / np.sum(traindf['target'] == 1)\n",
    "cw = {0: 1, 1: portion}\n",
    "model.compile(loss='binary_crossentropy',\n",
    "              optimizer=keras.optimizers.Adam(lr=0.0001, beta_1=0.9, beta_2=0.999, epsilon=1e-08),\n",
    "              metrics=['accuracy'])"
   ]
  },
  {
   "cell_type": "markdown",
   "metadata": {},
   "source": [
    "* Start training"
   ]
  },
  {
   "cell_type": "code",
   "execution_count": 52,
   "metadata": {},
   "outputs": [
    {
     "name": "stdout",
     "output_type": "stream",
     "text": [
      "Epoch 1/20\n",
      "277891/277891 [==============================] - 9s 31us/step - loss: 0.9985 - acc: 0.7395\n",
      "Epoch 2/20\n",
      "277891/277891 [==============================] - 8s 29us/step - loss: 0.9123 - acc: 0.7475\n",
      "Epoch 3/20\n",
      "277891/277891 [==============================] - 8s 30us/step - loss: 0.9060 - acc: 0.7512\n",
      "Epoch 4/20\n",
      "277891/277891 [==============================] - 8s 30us/step - loss: 0.9025 - acc: 0.7526\n",
      "Epoch 5/20\n",
      "277891/277891 [==============================] - 8s 28us/step - loss: 0.9002 - acc: 0.7521\n",
      "Epoch 6/20\n",
      "277891/277891 [==============================] - 9s 31us/step - loss: 0.8988 - acc: 0.7532\n",
      "Epoch 7/20\n",
      "277891/277891 [==============================] - 8s 29us/step - loss: 0.8966 - acc: 0.7518\n",
      "Epoch 8/20\n",
      "277891/277891 [==============================] - 9s 31us/step - loss: 0.8948 - acc: 0.7529\n",
      "Epoch 9/20\n",
      "277891/277891 [==============================] - 9s 31us/step - loss: 0.8935 - acc: 0.7515\n",
      "Epoch 10/20\n",
      "277891/277891 [==============================] - 9s 31us/step - loss: 0.8926 - acc: 0.7509\n",
      "Epoch 11/20\n",
      "277891/277891 [==============================] - 9s 31us/step - loss: 0.8911 - acc: 0.7511\n",
      "Epoch 12/20\n",
      "277891/277891 [==============================] - 8s 31us/step - loss: 0.8900 - acc: 0.7517\n",
      "Epoch 13/20\n",
      "277891/277891 [==============================] - 9s 34us/step - loss: 0.8878 - acc: 0.7505\n",
      "Epoch 14/20\n",
      "277891/277891 [==============================] - 9s 32us/step - loss: 0.8872 - acc: 0.7498\n",
      "Epoch 15/20\n",
      "277891/277891 [==============================] - 11s 38us/step - loss: 0.8855 - acc: 0.7498\n",
      "Epoch 16/20\n",
      "277891/277891 [==============================] - 11s 38us/step - loss: 0.8839 - acc: 0.7501\n",
      "Epoch 17/20\n",
      "277891/277891 [==============================] - 9s 31us/step - loss: 0.8832 - acc: 0.7487\n",
      "Epoch 18/20\n",
      "277891/277891 [==============================] - 9s 31us/step - loss: 0.8813 - acc: 0.7484\n",
      "Epoch 19/20\n",
      "277891/277891 [==============================] - 9s 33us/step - loss: 0.8803 - acc: 0.7484\n",
      "Epoch 20/20\n",
      "277891/277891 [==============================] - 9s 32us/step - loss: 0.8791 - acc: 0.7477\n"
     ]
    },
    {
     "data": {
      "text/plain": [
       "<keras.callbacks.History at 0x1a222acba8>"
      ]
     },
     "execution_count": 52,
     "metadata": {},
     "output_type": "execute_result"
    }
   ],
   "source": [
    "model.fit(x_train, y_train, epochs=20, batch_size = 1024, class_weight=cw)"
   ]
  },
  {
   "cell_type": "markdown",
   "metadata": {},
   "source": [
    "#### 5.3.3. Model Test\n",
    "When we are actually trading, we focus on whether we can profit from the model result. If the stock features predict '1', we will buy the stock and wait for profit. Therefore, '**Precision**' the right metric for us to evaluate the model."
   ]
  },
  {
   "cell_type": "code",
   "execution_count": 60,
   "metadata": {},
   "outputs": [
    {
     "data": {
      "text/plain": [
       "Text(0.5,1,'The relationship between change of thresholds and precision')"
      ]
     },
     "execution_count": 60,
     "metadata": {},
     "output_type": "execute_result"
    },
    {
     "data": {
      "image/png": "[encoded data removed]",
      "text/plain": [
       "<matplotlib.figure.Figure at 0x1a33ffe518>"
      ]
     },
     "metadata": {},
     "output_type": "display_data"
    }
   ],
   "source": [
    "a = model.predict_classes(x_test)\n",
    "y_pred = model.predict(x_test)\n",
    "y_probas = model.predict_proba(x_test)\n",
    "d = model.predict(x_test)\n",
    "b = [i[0] for i in a]\n",
    "c = [i[0] for i in y_test]\n",
    "d = [i[0] for i in d]\n",
    "testdf = pd.DataFrame({'pred': b, 'prob': d, 'test': c})\n",
    "testdf = testdf.sort_values(['pred'], ascending = False)\n",
    "recalllist = []\n",
    "thredlist = list(range(50, 100, 2))\n",
    "for i in thredlist:\n",
    "\ttempdf = testdf[testdf['prob'] >= i / 100]\n",
    "\trecalllist.append(sum(tempdf['test'] == 1) / len(tempdf))\n",
    "thredlist = list(map(lambda x : x / 100, thredlist))\n",
    "plt.plot(thredlist, recalllist)\n",
    "plt.xlabel('Thredsholds')\n",
    "plt.ylabel('Precision')\n",
    "plt.title('The relationship between change of thresholds and precision')"
   ]
  },
  {
   "cell_type": "markdown",
   "metadata": {},
   "source": [
    "The result is very encouraging.\n",
    "We use the trained models to predict out-of-sample data.\n",
    "The graph above shows that if we increase the thredsholds of predicting labels as 1, the precision increases gradually. We have **75% probability to succeed** if we buy stocks with **model prediction probabilities more than 90%**. "
   ]
  },
  {
   "cell_type": "code",
   "execution_count": 61,
   "metadata": {},
   "outputs": [
    {
     "data": {
      "text/plain": [
       "<matplotlib.legend.Legend at 0x1a2cab5ba8>"
      ]
     },
     "execution_count": 61,
     "metadata": {},
     "output_type": "execute_result"
    },
    {
     "data": {
      "image/png": "[encoded data removed]",
      "text/plain": [
       "<matplotlib.figure.Figure at 0x1a324f6898>"
      ]
     },
     "metadata": {},
     "output_type": "display_data"
    }
   ],
   "source": [
    "fpr, tpr, thresholds = roc_curve(y_test, y_probas, pos_label = 1)\n",
    "roc_auc = auc(fpr, tpr)\n",
    "plt.plot(fpr,tpr,lw =1, label = 'ROC (area = %.2f)' %(roc_auc))\n",
    "plt.plot([0,1], [0,1], linestyle = '--', color = (0.6, 0.6, 0.6), label = 'random guessing')\n",
    "plt.plot([0,0,1], [0,1,1], lw=2, linestyle = ':', color = 'black', label = 'perfect performance')\n",
    "plt.xlim([-0.05, 1.05])\n",
    "plt.ylim([-0.05, 1.05])\n",
    "plt.xlabel('False Positive Rate')\n",
    "plt.ylabel('True Positive Rate')\n",
    "plt.title('ROC Curve of DNN Classification')\n",
    "plt.legend(loc = 'lower right')"
   ]
  },
  {
   "cell_type": "markdown",
   "metadata": {},
   "source": [
    "In addition, the area under curve is 0.81, which means that model is very good at predicting the low-risk profitable trading opportunity."
   ]
  },
  {
   "cell_type": "code",
   "execution_count": null,
   "metadata": {},
   "outputs": [],
   "source": []
  }
 ],
 "metadata": {
  "kernelspec": {
   "display_name": "Python 3",
   "language": "python",
   "name": "python3"
  },
  "language_info": {
   "codemirror_mode": {
    "name": "ipython",
    "version": 3
   },
   "file_extension": ".py",
   "mimetype": "text/x-python",
   "name": "python",
   "nbconvert_exporter": "python",
   "pygments_lexer": "ipython3",
   "version": "3.6.3"
  }
 },
 "nbformat": 4,
 "nbformat_minor": 2
}
