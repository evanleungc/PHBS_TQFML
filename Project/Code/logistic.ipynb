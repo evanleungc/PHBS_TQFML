{
 "cells": [
  {
   "cell_type": "markdown",
   "metadata": {},
   "source": [
    "### 5.1 Logistic Regression"
   ]
  },
  {
   "cell_type": "code",
   "execution_count": 1,
   "metadata": {},
   "outputs": [],
   "source": [
    "import os\n",
    "os.chdir('C:\\Users\\whwsky\\Documents\\GitHub\\PHBS_TQFML\\Project\\Code')\n",
    "current_path = os.getcwd()\n",
    "data_path = os.path.dirname(os.getcwd()) + '/Data/'\n",
    "\n",
    "import numpy as np\n",
    "import pandas as pd\n",
    "from imblearn.over_sampling import SMOTE\n",
    "from sklearn.model_selection import train_test_split\n",
    "from sklearn.preprocessing import StandardScaler\n",
    "from sklearn.decomposition import PCA\n",
    "from sklearn.linear_model import LogisticRegression\n",
    "from sklearn.metrics import precision_score\n",
    "from sklearn.model_selection import GridSearchCV\n",
    "from sklearn.pipeline import make_pipeline\n",
    "from sklearn.metrics import roc_curve, auc\n",
    "import matplotlib.pyplot as plt"
   ]
  },
  {
   "cell_type": "markdown",
   "metadata": {},
   "source": [
    "#### 5.1.1. Feature Preprocessing and choose of  hyperparameters\n",
    "* We train on 70% of the sample and test on 30% of the sample\n",
    "* SMOTE transformation is used to tackle the 'imbalance dataset' problem\n",
    "* To increase training speed, the data are standardized\n",
    "* We use pca to reduce dimension\n",
    "* To determine the parameter C in logistic regression, we use the grid search."
   ]
  },
  {
   "cell_type": "code",
   "execution_count": 3,
   "metadata": {},
   "outputs": [
    {
     "data": {
      "text/html": [
       "<div>\n",
       "<style scoped>\n",
       "    .dataframe tbody tr th:only-of-type {\n",
       "        vertical-align: middle;\n",
       "    }\n",
       "\n",
       "    .dataframe tbody tr th {\n",
       "        vertical-align: top;\n",
       "    }\n",
       "\n",
       "    .dataframe thead th {\n",
       "        text-align: right;\n",
       "    }\n",
       "</style>\n",
       "<table border=\"1\" class=\"dataframe\">\n",
       "  <thead>\n",
       "    <tr style=\"text-align: right;\">\n",
       "      <th></th>\n",
       "      <th>Unnamed: 0</th>\n",
       "      <th>pchange</th>\n",
       "      <th>buy_rate_0</th>\n",
       "      <th>buy_rate_1</th>\n",
       "      <th>buy_rate_2</th>\n",
       "      <th>buy_rate_3</th>\n",
       "      <th>buy_rate_4</th>\n",
       "      <th>buy_rate_5</th>\n",
       "      <th>buy_rate_6</th>\n",
       "      <th>buy_rate_7</th>\n",
       "      <th>...</th>\n",
       "      <th>lag_3_sell_rate_3</th>\n",
       "      <th>lag_3_sell_rate_4</th>\n",
       "      <th>lag_3_sell_rate_5</th>\n",
       "      <th>lag_3_sell_rate_6</th>\n",
       "      <th>lag_3_sell_rate_7</th>\n",
       "      <th>lag_3_total_rate</th>\n",
       "      <th>lag_3_pchange</th>\n",
       "      <th>amplitude</th>\n",
       "      <th>above_mean</th>\n",
       "      <th>f_2_target</th>\n",
       "    </tr>\n",
       "  </thead>\n",
       "  <tbody>\n",
       "    <tr>\n",
       "      <th>0</th>\n",
       "      <td>296977</td>\n",
       "      <td>0.000000</td>\n",
       "      <td>0.004262</td>\n",
       "      <td>0.039358</td>\n",
       "      <td>0.069322</td>\n",
       "      <td>0.101553</td>\n",
       "      <td>0.070741</td>\n",
       "      <td>0.085366</td>\n",
       "      <td>0.043228</td>\n",
       "      <td>0.731700</td>\n",
       "      <td>...</td>\n",
       "      <td>0.137638</td>\n",
       "      <td>0.113725</td>\n",
       "      <td>0.097507</td>\n",
       "      <td>0.051210</td>\n",
       "      <td>0.706770</td>\n",
       "      <td>0.774878</td>\n",
       "      <td>-0.006867</td>\n",
       "      <td>0.034513</td>\n",
       "      <td>0.0</td>\n",
       "      <td>0.0</td>\n",
       "    </tr>\n",
       "    <tr>\n",
       "      <th>1</th>\n",
       "      <td>296978</td>\n",
       "      <td>-0.000870</td>\n",
       "      <td>0.003005</td>\n",
       "      <td>0.036391</td>\n",
       "      <td>0.045658</td>\n",
       "      <td>0.087576</td>\n",
       "      <td>0.080052</td>\n",
       "      <td>0.058568</td>\n",
       "      <td>0.066485</td>\n",
       "      <td>0.697046</td>\n",
       "      <td>...</td>\n",
       "      <td>0.107572</td>\n",
       "      <td>0.084417</td>\n",
       "      <td>0.095497</td>\n",
       "      <td>0.041856</td>\n",
       "      <td>0.474385</td>\n",
       "      <td>1.066063</td>\n",
       "      <td>0.001745</td>\n",
       "      <td>0.018634</td>\n",
       "      <td>1.0</td>\n",
       "      <td>0.0</td>\n",
       "    </tr>\n",
       "    <tr>\n",
       "      <th>2</th>\n",
       "      <td>296979</td>\n",
       "      <td>-0.011374</td>\n",
       "      <td>0.003534</td>\n",
       "      <td>0.028775</td>\n",
       "      <td>0.042148</td>\n",
       "      <td>0.083343</td>\n",
       "      <td>0.050439</td>\n",
       "      <td>0.038310</td>\n",
       "      <td>0.022141</td>\n",
       "      <td>0.488783</td>\n",
       "      <td>...</td>\n",
       "      <td>0.099209</td>\n",
       "      <td>0.077372</td>\n",
       "      <td>0.065368</td>\n",
       "      <td>0.060073</td>\n",
       "      <td>0.579543</td>\n",
       "      <td>1.039132</td>\n",
       "      <td>-0.013865</td>\n",
       "      <td>0.017637</td>\n",
       "      <td>1.0</td>\n",
       "      <td>0.0</td>\n",
       "    </tr>\n",
       "    <tr>\n",
       "      <th>3</th>\n",
       "      <td>296980</td>\n",
       "      <td>0.000886</td>\n",
       "      <td>0.004373</td>\n",
       "      <td>0.042493</td>\n",
       "      <td>0.049465</td>\n",
       "      <td>0.079775</td>\n",
       "      <td>0.052786</td>\n",
       "      <td>0.050205</td>\n",
       "      <td>0.036913</td>\n",
       "      <td>0.386499</td>\n",
       "      <td>...</td>\n",
       "      <td>0.064352</td>\n",
       "      <td>0.064303</td>\n",
       "      <td>0.087575</td>\n",
       "      <td>0.048398</td>\n",
       "      <td>0.545517</td>\n",
       "      <td>1.145529</td>\n",
       "      <td>0.000000</td>\n",
       "      <td>0.030222</td>\n",
       "      <td>0.0</td>\n",
       "      <td>0.0</td>\n",
       "    </tr>\n",
       "    <tr>\n",
       "      <th>4</th>\n",
       "      <td>296981</td>\n",
       "      <td>-0.001778</td>\n",
       "      <td>0.005291</td>\n",
       "      <td>0.041583</td>\n",
       "      <td>0.121921</td>\n",
       "      <td>0.116330</td>\n",
       "      <td>0.137974</td>\n",
       "      <td>0.053226</td>\n",
       "      <td>0.056889</td>\n",
       "      <td>0.637819</td>\n",
       "      <td>...</td>\n",
       "      <td>0.068138</td>\n",
       "      <td>0.067701</td>\n",
       "      <td>0.046487</td>\n",
       "      <td>0.048684</td>\n",
       "      <td>0.618164</td>\n",
       "      <td>1.074781</td>\n",
       "      <td>-0.000870</td>\n",
       "      <td>0.014350</td>\n",
       "      <td>0.0</td>\n",
       "      <td>0.0</td>\n",
       "    </tr>\n",
       "  </tbody>\n",
       "</table>\n",
       "<p>5 rows × 76 columns</p>\n",
       "</div>"
      ],
      "text/plain": [
       "   Unnamed: 0   pchange  buy_rate_0  buy_rate_1  buy_rate_2  buy_rate_3  \\\n",
       "0      296977  0.000000    0.004262    0.039358    0.069322    0.101553   \n",
       "1      296978 -0.000870    0.003005    0.036391    0.045658    0.087576   \n",
       "2      296979 -0.011374    0.003534    0.028775    0.042148    0.083343   \n",
       "3      296980  0.000886    0.004373    0.042493    0.049465    0.079775   \n",
       "4      296981 -0.001778    0.005291    0.041583    0.121921    0.116330   \n",
       "\n",
       "   buy_rate_4  buy_rate_5  buy_rate_6  buy_rate_7     ...      \\\n",
       "0    0.070741    0.085366    0.043228    0.731700     ...       \n",
       "1    0.080052    0.058568    0.066485    0.697046     ...       \n",
       "2    0.050439    0.038310    0.022141    0.488783     ...       \n",
       "3    0.052786    0.050205    0.036913    0.386499     ...       \n",
       "4    0.137974    0.053226    0.056889    0.637819     ...       \n",
       "\n",
       "   lag_3_sell_rate_3  lag_3_sell_rate_4  lag_3_sell_rate_5  lag_3_sell_rate_6  \\\n",
       "0           0.137638           0.113725           0.097507           0.051210   \n",
       "1           0.107572           0.084417           0.095497           0.041856   \n",
       "2           0.099209           0.077372           0.065368           0.060073   \n",
       "3           0.064352           0.064303           0.087575           0.048398   \n",
       "4           0.068138           0.067701           0.046487           0.048684   \n",
       "\n",
       "   lag_3_sell_rate_7  lag_3_total_rate  lag_3_pchange  amplitude  above_mean  \\\n",
       "0           0.706770          0.774878      -0.006867   0.034513         0.0   \n",
       "1           0.474385          1.066063       0.001745   0.018634         1.0   \n",
       "2           0.579543          1.039132      -0.013865   0.017637         1.0   \n",
       "3           0.545517          1.145529       0.000000   0.030222         0.0   \n",
       "4           0.618164          1.074781      -0.000870   0.014350         0.0   \n",
       "\n",
       "   f_2_target  \n",
       "0         0.0  \n",
       "1         0.0  \n",
       "2         0.0  \n",
       "3         0.0  \n",
       "4         0.0  \n",
       "\n",
       "[5 rows x 76 columns]"
      ]
     },
     "execution_count": 3,
     "metadata": {},
     "output_type": "execute_result"
    }
   ],
   "source": [
    "stock_data = pd.read_csv(data_path + 'traindf.csv')\n",
    "stock_data.head()"
   ]
  },
  {
   "cell_type": "code",
   "execution_count": 4,
   "metadata": {},
   "outputs": [],
   "source": [
    "X_raw=stock_data.iloc[:,1:75].values\n",
    "y_raw=stock_data.iloc[:,-1].values\n",
    "\n",
    "X_train, X_test, y_train, y_test = train_test_split(\n",
    "    X_raw, y_raw, test_size=0.3, random_state=1)\n",
    "\n",
    "sm = SMOTE()\n",
    "X_train, y_train = sm.fit_sample(X_train, y_train)"
   ]
  },
  {
   "cell_type": "code",
   "execution_count": 5,
   "metadata": {},
   "outputs": [
    {
     "name": "stdout",
     "output_type": "stream",
     "text": [
      "{'logisticregression__C': 0.1}\n"
     ]
    }
   ],
   "source": [
    "pipe_lr = make_pipeline(StandardScaler(),\n",
    "                        PCA(n_components=0.99),\n",
    "                        LogisticRegression(random_state=1))\n",
    "\n",
    "param_range = [0.0001, 0.001, 0.01, 0.1, 1.0, 10.0, 100.0, 1000.0]\n",
    "\n",
    "param_grid = [{'logisticregression__C': param_range}]\n",
    "\n",
    "gs = GridSearchCV(estimator=pipe_lr, \n",
    "                  param_grid=param_grid, \n",
    "                  scoring='precision', \n",
    "                  cv=10,\n",
    "                  n_jobs=-1)\n",
    "gs = gs.fit(X_train, y_train)\n",
    "print(gs.best_params_)"
   ]
  },
  {
   "cell_type": "markdown",
   "metadata": {},
   "source": [
    "The best C is 1.0. We will use this parameter to see the precison of test data and ROC curve."
   ]
  },
  {
   "cell_type": "markdown",
   "metadata": {},
   "source": [
    "#### 5.1.2. Logistic Regression"
   ]
  },
  {
   "cell_type": "code",
   "execution_count": 7,
   "metadata": {},
   "outputs": [
    {
     "name": "stdout",
     "output_type": "stream",
     "text": [
      "Precision: 0.37\n"
     ]
    }
   ],
   "source": [
    "sc = StandardScaler()\n",
    "sc.fit(X_train)\n",
    "X_train_std = sc.transform(X_train)\n",
    "X_test_std = sc.transform(X_test)\n",
    "pca = PCA(n_components=0.99)\n",
    "X_train_pca = pca.fit_transform(X_train_std)\n",
    "X_test_pca = pca.transform(X_test_std)\n",
    "lr = LogisticRegression(C=0.1, random_state=1)\n",
    "lr.fit(X_train_pca, y_train)\n",
    "y_pred = lr.predict(X_test_pca)\n",
    "print('Precision: %.2f' % precision_score(y_true=y_test, y_pred=y_pred))"
   ]
  },
  {
   "cell_type": "markdown",
   "metadata": {},
   "source": [
    "The precision is realtively low, which means logistic model doesn't have great ability to predict."
   ]
  },
  {
   "cell_type": "code",
   "execution_count": 8,
   "metadata": {},
   "outputs": [
    {
     "data": {
      "text/plain": [
       "<matplotlib.legend.Legend at 0x22f18bf96a0>"
      ]
     },
     "execution_count": 8,
     "metadata": {},
     "output_type": "execute_result"
    },
    {
     "data": {
      "image/png": "[encoded data removed]",
      "text/plain": [
       "<matplotlib.figure.Figure at 0x22f5e016898>"
      ]
     },
     "metadata": {},
     "output_type": "display_data"
    }
   ],
   "source": [
    "y_probas = lr.predict_proba(X_test_pca)\n",
    "fpr, tpr, thresholds = roc_curve(y_test, y_probas[:,1], pos_label = 1)\n",
    "roc_auc = auc(fpr, tpr)\n",
    "plt.plot(fpr,tpr,lw =1, label = 'ROC (area = %.2f)' %(roc_auc))\n",
    "plt.plot([0,1], [0,1], linestyle = '--', color = (0.6, 0.6, 0.6), label = 'random guessing')\n",
    "plt.plot([0,0,1], [0,1,1], lw=2, linestyle = ':', color = 'black', label = 'perfect performance')\n",
    "plt.xlim([-0.05, 1.05])\n",
    "plt.ylim([-0.05, 1.05])\n",
    "plt.xlabel('False Positive Rate')\n",
    "plt.ylabel('True Positive Rate')\n",
    "plt.title('ROC Curve of Logistic Classification')\n",
    "plt.legend(loc = 'lower right')"
   ]
  },
  {
   "cell_type": "markdown",
   "metadata": {},
   "source": [
    "The area under curve is 0.80."
   ]
  }
 ],
 "metadata": {
  "kernelspec": {
   "display_name": "Python 3",
   "language": "python",
   "name": "python3"
  },
  "language_info": {
   "codemirror_mode": {
    "name": "ipython",
    "version": 3
   },
   "file_extension": ".py",
   "mimetype": "text/x-python",
   "name": "python",
   "nbconvert_exporter": "python",
   "pygments_lexer": "ipython3",
   "version": "3.6.4"
  }
 },
 "nbformat": 4,
 "nbformat_minor": 2
}
