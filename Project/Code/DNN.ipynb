{
 "cells": [
  {
   "cell_type": "markdown",
   "metadata": {},
   "source": [
    "### 5.3 DNN"
   ]
  },
  {
   "cell_type": "code",
   "execution_count": 3,
   "metadata": {},
   "outputs": [],
   "source": [
    "import os\n",
    "os.chdir('/Users/apple/Documents/PHBS_TQFML/Project/Code')\n",
    "import numpy as np\n",
    "import pandas as pd\n",
    "import os\n",
    "import feature_funcs as ff\n",
    "from keras.utils import np_utils\n",
    "from keras.models import Sequential\n",
    "from keras.layers import Dense, Activation, Dropout\n",
    "import keras.optimizers\n",
    "from sklearn.cross_validation import train_test_split\n",
    "from sklearn.preprocessing import StandardScaler\n",
    "from sklearn.metrics import roc_curve, auc\n",
    "import matplotlib.pyplot as plt\n",
    "from imblearn.over_sampling import SMOTE\n",
    "%matplotlib inline\n",
    "current_path = os.getcwd()\n",
    "data_path = os.path.dirname(os.getcwd()) + '/Data/'"
   ]
  },
  {
   "cell_type": "markdown",
   "metadata": {},
   "source": [
    "#### 5.3.1. Feature Preprocessing\n",
    "* **All features** are used in training\n",
    "* To increase training speed, the data are **standardized**\n",
    "* **'cw'** parameter in keras is used to tackle the 'imbalance dataset' problem\n",
    "* We train on **70%** of the sample and test on **30%** of the sample"
   ]
  },
  {
   "cell_type": "code",
   "execution_count": 4,
   "metadata": {},
   "outputs": [],
   "source": [
    "traindf = pd.read_csv(data_path + 'traindf.csv')"
   ]
  },
  {
   "cell_type": "code",
   "execution_count": 5,
   "metadata": {},
   "outputs": [],
   "source": [
    "X_raw=traindf.iloc[:,1:75].values\n",
    "y_raw=traindf.iloc[:,-1].values\n",
    "\n",
    "x_train, x_test, y_train, y_test = train_test_split(\n",
    "    X_raw, y_raw, test_size=0.3, random_state=1)\n",
    "\n",
    "sc = StandardScaler()\n",
    "sc.fit(x_train)\n",
    "x_train = sc.transform(x_train)\n",
    "x_test = sc.transform(x_test)"
   ]
  },
  {
   "cell_type": "markdown",
   "metadata": {},
   "source": [
    "#### 5.3.2. DNN Structures after hyperparameter tunning\n",
    "* We use **keras** package with tensorflow as kernel\n",
    "* **Sequential** Model is used\n",
    "* 1 input layer, 5 hidden layers, 1 output layers\n",
    "* Input and all the hidden layers employ '**ReLu**' activation function\n",
    "* The output layer employs '**Sigmoid**' activation function\n",
    "* Parameter cw = {0: 1, 1: 5.32} indicates that we give more weights on '1' label because of the **imbalance dataset**\n",
    "* The loss function we used in back propagation is '**binary_crossentropy**'\n",
    "* **Adam optimizer** is used because it considers both momentum effect and avoids gradient exposure"
   ]
  },
  {
   "cell_type": "code",
   "execution_count": 6,
   "metadata": {},
   "outputs": [],
   "source": [
    "model = Sequential()\n",
    "model.add(Dense(128, activation = 'relu', input_dim = x_train.shape[1]))\n",
    "model.add(Dense(64, activation = 'relu'))\n",
    "model.add(Dense(128, activation = 'relu'))\n",
    "model.add(Dense(64, activation = 'relu'))\n",
    "model.add(Dense(128, activation = 'relu'))\n",
    "model.add(Dense(64, activation = 'relu'))\n",
    "model.add(Dense(1, activation='sigmoid'))\n",
    "model.compile(loss='binary_crossentropy',\n",
    "              optimizer=keras.optimizers.Adam(lr=0.0001, beta_1=0.9, beta_2=0.999, epsilon=1e-08),\n",
    "              metrics=['accuracy'])"
   ]
  },
  {
   "cell_type": "markdown",
   "metadata": {},
   "source": [
    "* Start training"
   ]
  },
  {
   "cell_type": "code",
   "execution_count": 7,
   "metadata": {},
   "outputs": [
    {
     "name": "stdout",
     "output_type": "stream",
     "text": [
      "Epoch 1/20\n",
      "243154/243154 [==============================] - 5s 21us/step - loss: 0.4370 - acc: 0.8399\n",
      "Epoch 2/20\n",
      "243154/243154 [==============================] - 5s 20us/step - loss: 0.3541 - acc: 0.8624\n",
      "Epoch 3/20\n",
      "243154/243154 [==============================] - 5s 22us/step - loss: 0.3481 - acc: 0.8641\n",
      "Epoch 4/20\n",
      "243154/243154 [==============================] - 5s 20us/step - loss: 0.3457 - acc: 0.8647\n",
      "Epoch 5/20\n",
      "243154/243154 [==============================] - 5s 21us/step - loss: 0.3446 - acc: 0.8650\n",
      "Epoch 6/20\n",
      "243154/243154 [==============================] - 5s 19us/step - loss: 0.3438 - acc: 0.8652\n",
      "Epoch 7/20\n",
      "243154/243154 [==============================] - 4s 18us/step - loss: 0.3429 - acc: 0.8652\n",
      "Epoch 8/20\n",
      "243154/243154 [==============================] - 5s 20us/step - loss: 0.3425 - acc: 0.8653\n",
      "Epoch 9/20\n",
      "243154/243154 [==============================] - 5s 21us/step - loss: 0.3420 - acc: 0.8654\n",
      "Epoch 10/20\n",
      "243154/243154 [==============================] - 6s 23us/step - loss: 0.3416 - acc: 0.8656: 0s - loss: 0.3419 - \n",
      "Epoch 11/20\n",
      "243154/243154 [==============================] - 5s 21us/step - loss: 0.3411 - acc: 0.8658\n",
      "Epoch 12/20\n",
      "243154/243154 [==============================] - 5s 23us/step - loss: 0.3408 - acc: 0.8659: 0s - loss: 0.3409 - ac\n",
      "Epoch 13/20\n",
      "243154/243154 [==============================] - 5s 19us/step - loss: 0.3404 - acc: 0.8660\n",
      "Epoch 14/20\n",
      "243154/243154 [==============================] - 6s 24us/step - loss: 0.3402 - acc: 0.8660\n",
      "Epoch 15/20\n",
      "243154/243154 [==============================] - 5s 22us/step - loss: 0.3399 - acc: 0.8659\n",
      "Epoch 16/20\n",
      "243154/243154 [==============================] - 5s 21us/step - loss: 0.3395 - acc: 0.8663\n",
      "Epoch 17/20\n",
      "243154/243154 [==============================] - 5s 21us/step - loss: 0.3392 - acc: 0.8664\n",
      "Epoch 18/20\n",
      "243154/243154 [==============================] - 4s 15us/step - loss: 0.3390 - acc: 0.8663\n",
      "Epoch 19/20\n",
      "243154/243154 [==============================] - 3s 14us/step - loss: 0.3385 - acc: 0.8665\n",
      "Epoch 20/20\n",
      "243154/243154 [==============================] - 3s 14us/step - loss: 0.3385 - acc: 0.8665\n"
     ]
    },
    {
     "data": {
      "text/plain": [
       "<keras.callbacks.History at 0x1152c0710>"
      ]
     },
     "execution_count": 7,
     "metadata": {},
     "output_type": "execute_result"
    }
   ],
   "source": [
    "model.fit(x_train, y_train, epochs=20, batch_size = 1024)"
   ]
  },
  {
   "cell_type": "markdown",
   "metadata": {},
   "source": [
    "#### 5.3.3. Model Test\n",
    "When we are actually trading, we focus on whether we can profit from the model result. If the stock features predict '1', we will buy the stock and wait for profit. Therefore, '**Precision**' the right metric for us to evaluate the model."
   ]
  },
  {
   "cell_type": "code",
   "execution_count": 8,
   "metadata": {},
   "outputs": [
    {
     "data": {
      "text/plain": [
       "Text(0.5,1,'The relationship between change of thresholds and precision')"
      ]
     },
     "execution_count": 8,
     "metadata": {},
     "output_type": "execute_result"
    },
    {
     "data": {
      "image/png": "[encoded data removed]",
      "text/plain": [
       "<matplotlib.figure.Figure at 0x1a48ba1cc0>"
      ]
     },
     "metadata": {},
     "output_type": "display_data"
    }
   ],
   "source": [
    "a = model.predict_classes(x_test)\n",
    "y_pred = model.predict(x_test)\n",
    "y_probas = model.predict_proba(x_test)\n",
    "d = model.predict(x_test)\n",
    "b = [i for i in a]\n",
    "c = [i for i in y_test]\n",
    "d = [i for i in d]\n",
    "testdf = pd.DataFrame({'pred': b, 'prob': d, 'test': c})\n",
    "testdf = testdf.sort_values(['pred'], ascending = False)\n",
    "recalllist = []\n",
    "thredlist = list(range(50, 90, 2))\n",
    "for i in thredlist:\n",
    "\ttempdf = testdf[testdf['prob'] >= i / 100]\n",
    "\trecalllist.append(sum(tempdf['test'] == 1) / len(tempdf))\n",
    "thredlist = list(map(lambda x : x / 100, thredlist))\n",
    "plt.plot(thredlist, recalllist)\n",
    "plt.xlabel('Thredsholds')\n",
    "plt.ylabel('Precision')\n",
    "plt.title('The relationship between change of thresholds and precision')"
   ]
  },
  {
   "cell_type": "markdown",
   "metadata": {},
   "source": [
    "The result is very encouraging.\n",
    "We use the trained models to predict out-of-sample data.\n",
    "The graph above shows that if we increase the thredsholds of predicting labels as 1, the precision increases gradually. We have **75% probability to succeed** if we buy stocks with **model prediction probabilities more than 85%**. "
   ]
  },
  {
   "cell_type": "code",
   "execution_count": 9,
   "metadata": {},
   "outputs": [
    {
     "data": {
      "text/plain": [
       "<matplotlib.legend.Legend at 0x1a48b28b00>"
      ]
     },
     "execution_count": 9,
     "metadata": {},
     "output_type": "execute_result"
    },
    {
     "data": {
      "image/png": "[encoded data removed]",
      "text/plain": [
       "<matplotlib.figure.Figure at 0x1a48afd240>"
      ]
     },
     "metadata": {},
     "output_type": "display_data"
    }
   ],
   "source": [
    "fpr, tpr, thresholds = roc_curve(y_test, y_probas, pos_label = 1)\n",
    "roc_auc = auc(fpr, tpr)\n",
    "plt.plot(fpr,tpr,lw =1, label = 'ROC (area = %.2f)' %(roc_auc))\n",
    "plt.plot([0,1], [0,1], linestyle = '--', color = (0.6, 0.6, 0.6), label = 'random guessing')\n",
    "plt.plot([0,0,1], [0,1,1], lw=2, linestyle = ':', color = 'black', label = 'perfect performance')\n",
    "plt.xlim([-0.05, 1.05])\n",
    "plt.ylim([-0.05, 1.05])\n",
    "plt.xlabel('False Positive Rate')\n",
    "plt.ylabel('True Positive Rate')\n",
    "plt.title('ROC Curve of DNN Classification')\n",
    "plt.legend(loc = 'lower right')"
   ]
  },
  {
   "cell_type": "markdown",
   "metadata": {},
   "source": [
    "The ROC is 0.81, which is also another proof of the good result"
   ]
  }
 ],
 "metadata": {
  "kernelspec": {
   "display_name": "Python 3",
   "language": "python",
   "name": "python3"
  },
  "language_info": {
   "codemirror_mode": {
    "name": "ipython",
    "version": 3
   },
   "file_extension": ".py",
   "mimetype": "text/x-python",
   "name": "python",
   "nbconvert_exporter": "python",
   "pygments_lexer": "ipython3",
   "version": "3.6.3"
  }
 },
 "nbformat": 4,
 "nbformat_minor": 2
}
